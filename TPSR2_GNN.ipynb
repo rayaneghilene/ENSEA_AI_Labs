{
  "cells": [
    {
      "cell_type": "markdown",
      "metadata": {
        "id": "view-in-github",
        "colab_type": "text"
      },
      "source": [
        "<a href=\"https://colab.research.google.com/github/rayaneghilene/ENSEA_AI_Labs/blob/main/TPSR2_GNN.ipynb\" target=\"_parent\"><img src=\"https://colab.research.google.com/assets/colab-badge.svg\" alt=\"Open In Colab\"/></a>"
      ]
    },
    {
      "cell_type": "code",
      "execution_count": 1,
      "id": "e6d01385",
      "metadata": {
        "id": "e6d01385",
        "outputId": "42d0fb37-916d-484d-d9c4-bbefeb6c8f2b",
        "colab": {
          "base_uri": "https://localhost:8080/"
        }
      },
      "outputs": [
        {
          "output_type": "stream",
          "name": "stdout",
          "text": [
            "Looking in indexes: https://pypi.org/simple, https://us-python.pkg.dev/colab-wheels/public/simple/\n",
            "Requirement already satisfied: gdown in /usr/local/lib/python3.9/dist-packages (4.6.6)\n",
            "Requirement already satisfied: beautifulsoup4 in /usr/local/lib/python3.9/dist-packages (from gdown) (4.11.2)\n",
            "Requirement already satisfied: six in /usr/local/lib/python3.9/dist-packages (from gdown) (1.16.0)\n",
            "Requirement already satisfied: tqdm in /usr/local/lib/python3.9/dist-packages (from gdown) (4.65.0)\n",
            "Requirement already satisfied: requests[socks] in /usr/local/lib/python3.9/dist-packages (from gdown) (2.27.1)\n",
            "Requirement already satisfied: filelock in /usr/local/lib/python3.9/dist-packages (from gdown) (3.11.0)\n",
            "Requirement already satisfied: soupsieve>1.2 in /usr/local/lib/python3.9/dist-packages (from beautifulsoup4->gdown) (2.4.1)\n",
            "Requirement already satisfied: idna<4,>=2.5 in /usr/local/lib/python3.9/dist-packages (from requests[socks]->gdown) (3.4)\n",
            "Requirement already satisfied: urllib3<1.27,>=1.21.1 in /usr/local/lib/python3.9/dist-packages (from requests[socks]->gdown) (1.26.15)\n",
            "Requirement already satisfied: certifi>=2017.4.17 in /usr/local/lib/python3.9/dist-packages (from requests[socks]->gdown) (2022.12.7)\n",
            "Requirement already satisfied: charset-normalizer~=2.0.0 in /usr/local/lib/python3.9/dist-packages (from requests[socks]->gdown) (2.0.12)\n",
            "Requirement already satisfied: PySocks!=1.5.7,>=1.5.6 in /usr/local/lib/python3.9/dist-packages (from requests[socks]->gdown) (1.7.1)\n",
            "Downloading...\n",
            "From: https://drive.google.com/uc?id=1a7ZViLBLoCHKuLP8CSP_5uj0CTABqDaQ\n",
            "To: /content/ml-100k.tar.xz\n",
            "100% 710k/710k [00:00<00:00, 63.2MB/s]\n"
          ]
        }
      ],
      "source": [
        "!pip install gdown\n",
        "!gdown 1a7ZViLBLoCHKuLP8CSP_5uj0CTABqDaQ\n",
        "!mkdir ml-100k\n",
        "!tar -xf /content/ml-100k.tar.xz -C /content/ml-100k/\n",
        "!rm -d /content/ml-100k.tar.xz"
      ]
    },
    {
      "cell_type": "markdown",
      "id": "ca8cc3a9",
      "metadata": {
        "id": "ca8cc3a9"
      },
      "source": [
        "# TP5 : Graph Neural Networks for Recommendation Systems\n",
        "\n",
        "In this last TP, you are going to explore the use of Graph Neural Networks (GNNs) for Recommendation Systems.\n",
        "\n",
        "The dataset you'll use is the dataset **MovieLens 100K**. This dataset describes people's expressed preference for movies. Each preference is described as a tuple (user, movie, rating). \n",
        "\n",
        "Users and movies description are also added. On one side, users are defined by their age, sex, occupation and location. On the other side, movies are described by 19 categories, for which each movie can belong to one or more.\n",
        "\n",
        "This TP is two-fold. First part concerns the computation and the analysis of the dataset, and will mostly be treated in TD, and second part is about the use of GNNs for movie recommendation."
      ]
    },
    {
      "cell_type": "markdown",
      "id": "c59e1e20",
      "metadata": {
        "id": "c59e1e20"
      },
      "source": [
        "## Part 1 : Dataset analysis"
      ]
    },
    {
      "cell_type": "markdown",
      "id": "cb6d496f",
      "metadata": {
        "id": "cb6d496f"
      },
      "source": [
        "### Libraries to include\n",
        "\n",
        "First of all, here are some libraries that you may need during this TP. Some of them are not mandatory, while other ones might not be used at all."
      ]
    },
    {
      "cell_type": "code",
      "source": [
        "import math\n",
        "import copy\n",
        "import pickle\n",
        "import glob\n",
        "import os\n",
        "import sys\n",
        "import time\n",
        "from pathlib import Path\n",
        "from itertools import zip_longest\n",
        "import random\n",
        "from tqdm import tqdm\n",
        "import matplotlib.pyplot as plt\n",
        "\n",
        "import numpy as np\n",
        "import pandas as pd\n",
        "from sklearn.model_selection import train_test_split\n",
        "\n",
        "import torch\n",
        "from torch import nn\n",
        "from torch import optim\n",
        "\n",
        "device = 'cuda:0' if torch.cuda.is_available() else 'cpu'"
      ],
      "metadata": {
        "id": "ehG7efNaVowL"
      },
      "id": "ehG7efNaVowL",
      "execution_count": 2,
      "outputs": []
    },
    {
      "cell_type": "markdown",
      "id": "850bf3fd",
      "metadata": {
        "id": "850bf3fd"
      },
      "source": [
        "### Setting the random seeds\n",
        "Used in order to fix the randomness of the experiments. It will be probably useless here, but it is always prefered."
      ]
    },
    {
      "cell_type": "code",
      "execution_count": 3,
      "id": "12d46683",
      "metadata": {
        "id": "12d46683"
      },
      "outputs": [],
      "source": [
        "def set_random_seed(state=1):\n",
        "    gens = (np.random.seed, torch.manual_seed, torch.cuda.manual_seed)\n",
        "    for set_state in gens:\n",
        "        set_state(state)\n",
        "\n",
        "RANDOM_STATE = 2021\n",
        "set_random_seed(RANDOM_STATE)"
      ]
    },
    {
      "cell_type": "markdown",
      "id": "9dd62b73",
      "metadata": {
        "id": "9dd62b73"
      },
      "source": [
        "### Read the dataset files using pandas\n",
        "\n",
        "You start to work here ! First of all, we need to read the data. For this, we are going to use pandas. We also use this stage to remove the unused fields.\n",
        "\n",
        "The unused fields are : \n",
        "- timestamp in ratings\n",
        "- movieId, movie title, release data, video release date and IMDb URL for movies\n",
        "- user id and zip code for users\n",
        "\n",
        "We also use this stage to ont hot encode and normalize our data. Movies categories are already one hot encoded, so we only need to encode the sex and occupation fields. For normalization, we'll normalize the age field."
      ]
    },
    {
      "cell_type": "code",
      "execution_count": 9,
      "id": "5c331b38",
      "metadata": {
        "id": "5c331b38"
      },
      "outputs": [],
      "source": [
        "def read_data(path):\n",
        "    files = {}\n",
        "    path = Path(path)\n",
        "    for filename in path.glob('*'):\n",
        "        if filename.suffix == '.data': \n",
        "            if filename.stem == 'u':\n",
        "                columns = ['userId', 'movieId', 'rating', 'timestamp']\n",
        "                ratings = pd.read_csv(filename, sep='\\t', names=columns, engine='python', encoding='latin-1')\n",
        "                ratings.drop(columns = \"timestamp\", inplace= True)\n",
        "                files['ratings'] = ratings\n",
        "                \n",
        "        elif filename.suffix == '.item': \n",
        "            if filename.stem == 'u':\n",
        "                # TODO\n",
        "                movie_names = ['movieId', 'movie title', 'release date', 'video release date', 'IMDb URL', \n",
        "                       'unknown', 'Action', 'Adventure', 'Animation', 'Childrens', 'Comedy', 'Crime', \n",
        "                       'Documentary', 'Drama', 'Fantasy', 'Film-Noir', 'Horror', 'Musical', 'Mystery', \n",
        "                       'Romance', 'Sci-Fi', 'Thriller', 'War', 'Western']\n",
        "                movies = pd.read_csv(filename, sep='|', names = movie_names , engine='python', encoding='latin-1')\n",
        "                movies.drop(columns=['movieId', 'movie title', 'release date', 'video release date' ,'IMDb URL'] ,  inplace=True)\n",
        "                files['movies'] = movies\n",
        "                \n",
        "        elif filename.suffix == '.user': \n",
        "            if filename.stem == 'u':\n",
        "                # TODO\n",
        "                users = pd.read_csv(filename, sep='|', names=['userId', 'age', 'sex', 'occupation', 'zip'], engine='python', encoding='latin-1')\n",
        "                users.drop(columns=['userId', 'zip'], inplace=True)\n",
        "                users['sex'] = users['sex'].map({'M': 0, 'F': 1}) # one-hot encoding\n",
        "                users['occupation'] = users['occupation'].astype('category').cat.codes # one-hot encoding\n",
        "                users['age'] = (users['age'] - users['age'].mean()) / users['age'].std() # normalization\n",
        "                files['users'] = users\n",
        "\n",
        "    return files['ratings'], files['movies'], files[\"users\"]\n",
        "\n",
        "dataset = 'ml-100k'\n",
        "ratings, movies, users = read_data('/content/'+dataset)"
      ]
    },
    {
      "cell_type": "markdown",
      "id": "394b23d2",
      "metadata": {
        "id": "394b23d2"
      },
      "source": [
        "We can check what our ratings looks like : "
      ]
    },
    {
      "cell_type": "code",
      "execution_count": 10,
      "id": "3dda52d0",
      "metadata": {
        "id": "3dda52d0",
        "outputId": "adf76e25-ff4e-412a-aa06-c2185ba6867c",
        "colab": {
          "base_uri": "https://localhost:8080/",
          "height": 206
        }
      },
      "outputs": [
        {
          "output_type": "execute_result",
          "data": {
            "text/plain": [
              "   userId  movieId  rating\n",
              "0     196      242       3\n",
              "1     186      302       3\n",
              "2      22      377       1\n",
              "3     244       51       2\n",
              "4     166      346       1"
            ],
            "text/html": [
              "\n",
              "  <div id=\"df-6e6ac9ed-dd44-4448-923e-466da6394336\">\n",
              "    <div class=\"colab-df-container\">\n",
              "      <div>\n",
              "<style scoped>\n",
              "    .dataframe tbody tr th:only-of-type {\n",
              "        vertical-align: middle;\n",
              "    }\n",
              "\n",
              "    .dataframe tbody tr th {\n",
              "        vertical-align: top;\n",
              "    }\n",
              "\n",
              "    .dataframe thead th {\n",
              "        text-align: right;\n",
              "    }\n",
              "</style>\n",
              "<table border=\"1\" class=\"dataframe\">\n",
              "  <thead>\n",
              "    <tr style=\"text-align: right;\">\n",
              "      <th></th>\n",
              "      <th>userId</th>\n",
              "      <th>movieId</th>\n",
              "      <th>rating</th>\n",
              "    </tr>\n",
              "  </thead>\n",
              "  <tbody>\n",
              "    <tr>\n",
              "      <th>0</th>\n",
              "      <td>196</td>\n",
              "      <td>242</td>\n",
              "      <td>3</td>\n",
              "    </tr>\n",
              "    <tr>\n",
              "      <th>1</th>\n",
              "      <td>186</td>\n",
              "      <td>302</td>\n",
              "      <td>3</td>\n",
              "    </tr>\n",
              "    <tr>\n",
              "      <th>2</th>\n",
              "      <td>22</td>\n",
              "      <td>377</td>\n",
              "      <td>1</td>\n",
              "    </tr>\n",
              "    <tr>\n",
              "      <th>3</th>\n",
              "      <td>244</td>\n",
              "      <td>51</td>\n",
              "      <td>2</td>\n",
              "    </tr>\n",
              "    <tr>\n",
              "      <th>4</th>\n",
              "      <td>166</td>\n",
              "      <td>346</td>\n",
              "      <td>1</td>\n",
              "    </tr>\n",
              "  </tbody>\n",
              "</table>\n",
              "</div>\n",
              "      <button class=\"colab-df-convert\" onclick=\"convertToInteractive('df-6e6ac9ed-dd44-4448-923e-466da6394336')\"\n",
              "              title=\"Convert this dataframe to an interactive table.\"\n",
              "              style=\"display:none;\">\n",
              "        \n",
              "  <svg xmlns=\"http://www.w3.org/2000/svg\" height=\"24px\"viewBox=\"0 0 24 24\"\n",
              "       width=\"24px\">\n",
              "    <path d=\"M0 0h24v24H0V0z\" fill=\"none\"/>\n",
              "    <path d=\"M18.56 5.44l.94 2.06.94-2.06 2.06-.94-2.06-.94-.94-2.06-.94 2.06-2.06.94zm-11 1L8.5 8.5l.94-2.06 2.06-.94-2.06-.94L8.5 2.5l-.94 2.06-2.06.94zm10 10l.94 2.06.94-2.06 2.06-.94-2.06-.94-.94-2.06-.94 2.06-2.06.94z\"/><path d=\"M17.41 7.96l-1.37-1.37c-.4-.4-.92-.59-1.43-.59-.52 0-1.04.2-1.43.59L10.3 9.45l-7.72 7.72c-.78.78-.78 2.05 0 2.83L4 21.41c.39.39.9.59 1.41.59.51 0 1.02-.2 1.41-.59l7.78-7.78 2.81-2.81c.8-.78.8-2.07 0-2.86zM5.41 20L4 18.59l7.72-7.72 1.47 1.35L5.41 20z\"/>\n",
              "  </svg>\n",
              "      </button>\n",
              "      \n",
              "  <style>\n",
              "    .colab-df-container {\n",
              "      display:flex;\n",
              "      flex-wrap:wrap;\n",
              "      gap: 12px;\n",
              "    }\n",
              "\n",
              "    .colab-df-convert {\n",
              "      background-color: #E8F0FE;\n",
              "      border: none;\n",
              "      border-radius: 50%;\n",
              "      cursor: pointer;\n",
              "      display: none;\n",
              "      fill: #1967D2;\n",
              "      height: 32px;\n",
              "      padding: 0 0 0 0;\n",
              "      width: 32px;\n",
              "    }\n",
              "\n",
              "    .colab-df-convert:hover {\n",
              "      background-color: #E2EBFA;\n",
              "      box-shadow: 0px 1px 2px rgba(60, 64, 67, 0.3), 0px 1px 3px 1px rgba(60, 64, 67, 0.15);\n",
              "      fill: #174EA6;\n",
              "    }\n",
              "\n",
              "    [theme=dark] .colab-df-convert {\n",
              "      background-color: #3B4455;\n",
              "      fill: #D2E3FC;\n",
              "    }\n",
              "\n",
              "    [theme=dark] .colab-df-convert:hover {\n",
              "      background-color: #434B5C;\n",
              "      box-shadow: 0px 1px 3px 1px rgba(0, 0, 0, 0.15);\n",
              "      filter: drop-shadow(0px 1px 2px rgba(0, 0, 0, 0.3));\n",
              "      fill: #FFFFFF;\n",
              "    }\n",
              "  </style>\n",
              "\n",
              "      <script>\n",
              "        const buttonEl =\n",
              "          document.querySelector('#df-6e6ac9ed-dd44-4448-923e-466da6394336 button.colab-df-convert');\n",
              "        buttonEl.style.display =\n",
              "          google.colab.kernel.accessAllowed ? 'block' : 'none';\n",
              "\n",
              "        async function convertToInteractive(key) {\n",
              "          const element = document.querySelector('#df-6e6ac9ed-dd44-4448-923e-466da6394336');\n",
              "          const dataTable =\n",
              "            await google.colab.kernel.invokeFunction('convertToInteractive',\n",
              "                                                     [key], {});\n",
              "          if (!dataTable) return;\n",
              "\n",
              "          const docLinkHtml = 'Like what you see? Visit the ' +\n",
              "            '<a target=\"_blank\" href=https://colab.research.google.com/notebooks/data_table.ipynb>data table notebook</a>'\n",
              "            + ' to learn more about interactive tables.';\n",
              "          element.innerHTML = '';\n",
              "          dataTable['output_type'] = 'display_data';\n",
              "          await google.colab.output.renderOutput(dataTable, element);\n",
              "          const docLink = document.createElement('div');\n",
              "          docLink.innerHTML = docLinkHtml;\n",
              "          element.appendChild(docLink);\n",
              "        }\n",
              "      </script>\n",
              "    </div>\n",
              "  </div>\n",
              "  "
            ]
          },
          "metadata": {},
          "execution_count": 10
        }
      ],
      "source": [
        "ratings.head()"
      ]
    },
    {
      "cell_type": "markdown",
      "id": "213d0d2f",
      "metadata": {
        "id": "213d0d2f"
      },
      "source": [
        "We can do the same for movies and users"
      ]
    },
    {
      "cell_type": "code",
      "execution_count": 11,
      "id": "aae611e0",
      "metadata": {
        "id": "aae611e0",
        "outputId": "584f7521-83aa-4b2f-92da-1a77349a0cd8",
        "colab": {
          "base_uri": "https://localhost:8080/",
          "height": 288
        }
      },
      "outputs": [
        {
          "output_type": "execute_result",
          "data": {
            "text/plain": [
              "   unknown  Action  Adventure  Animation  Childrens  Comedy  Crime  \\\n",
              "0        0       0          0          1          1       1      0   \n",
              "1        0       1          1          0          0       0      0   \n",
              "2        0       0          0          0          0       0      0   \n",
              "3        0       1          0          0          0       1      0   \n",
              "4        0       0          0          0          0       0      1   \n",
              "\n",
              "   Documentary  Drama  Fantasy  Film-Noir  Horror  Musical  Mystery  Romance  \\\n",
              "0            0      0        0          0       0        0        0        0   \n",
              "1            0      0        0          0       0        0        0        0   \n",
              "2            0      0        0          0       0        0        0        0   \n",
              "3            0      1        0          0       0        0        0        0   \n",
              "4            0      1        0          0       0        0        0        0   \n",
              "\n",
              "   Sci-Fi  Thriller  War  Western  \n",
              "0       0         0    0        0  \n",
              "1       0         1    0        0  \n",
              "2       0         1    0        0  \n",
              "3       0         0    0        0  \n",
              "4       0         1    0        0  "
            ],
            "text/html": [
              "\n",
              "  <div id=\"df-59775acd-aa3a-45e3-8ba1-0fec9a7be432\">\n",
              "    <div class=\"colab-df-container\">\n",
              "      <div>\n",
              "<style scoped>\n",
              "    .dataframe tbody tr th:only-of-type {\n",
              "        vertical-align: middle;\n",
              "    }\n",
              "\n",
              "    .dataframe tbody tr th {\n",
              "        vertical-align: top;\n",
              "    }\n",
              "\n",
              "    .dataframe thead th {\n",
              "        text-align: right;\n",
              "    }\n",
              "</style>\n",
              "<table border=\"1\" class=\"dataframe\">\n",
              "  <thead>\n",
              "    <tr style=\"text-align: right;\">\n",
              "      <th></th>\n",
              "      <th>unknown</th>\n",
              "      <th>Action</th>\n",
              "      <th>Adventure</th>\n",
              "      <th>Animation</th>\n",
              "      <th>Childrens</th>\n",
              "      <th>Comedy</th>\n",
              "      <th>Crime</th>\n",
              "      <th>Documentary</th>\n",
              "      <th>Drama</th>\n",
              "      <th>Fantasy</th>\n",
              "      <th>Film-Noir</th>\n",
              "      <th>Horror</th>\n",
              "      <th>Musical</th>\n",
              "      <th>Mystery</th>\n",
              "      <th>Romance</th>\n",
              "      <th>Sci-Fi</th>\n",
              "      <th>Thriller</th>\n",
              "      <th>War</th>\n",
              "      <th>Western</th>\n",
              "    </tr>\n",
              "  </thead>\n",
              "  <tbody>\n",
              "    <tr>\n",
              "      <th>0</th>\n",
              "      <td>0</td>\n",
              "      <td>0</td>\n",
              "      <td>0</td>\n",
              "      <td>1</td>\n",
              "      <td>1</td>\n",
              "      <td>1</td>\n",
              "      <td>0</td>\n",
              "      <td>0</td>\n",
              "      <td>0</td>\n",
              "      <td>0</td>\n",
              "      <td>0</td>\n",
              "      <td>0</td>\n",
              "      <td>0</td>\n",
              "      <td>0</td>\n",
              "      <td>0</td>\n",
              "      <td>0</td>\n",
              "      <td>0</td>\n",
              "      <td>0</td>\n",
              "      <td>0</td>\n",
              "    </tr>\n",
              "    <tr>\n",
              "      <th>1</th>\n",
              "      <td>0</td>\n",
              "      <td>1</td>\n",
              "      <td>1</td>\n",
              "      <td>0</td>\n",
              "      <td>0</td>\n",
              "      <td>0</td>\n",
              "      <td>0</td>\n",
              "      <td>0</td>\n",
              "      <td>0</td>\n",
              "      <td>0</td>\n",
              "      <td>0</td>\n",
              "      <td>0</td>\n",
              "      <td>0</td>\n",
              "      <td>0</td>\n",
              "      <td>0</td>\n",
              "      <td>0</td>\n",
              "      <td>1</td>\n",
              "      <td>0</td>\n",
              "      <td>0</td>\n",
              "    </tr>\n",
              "    <tr>\n",
              "      <th>2</th>\n",
              "      <td>0</td>\n",
              "      <td>0</td>\n",
              "      <td>0</td>\n",
              "      <td>0</td>\n",
              "      <td>0</td>\n",
              "      <td>0</td>\n",
              "      <td>0</td>\n",
              "      <td>0</td>\n",
              "      <td>0</td>\n",
              "      <td>0</td>\n",
              "      <td>0</td>\n",
              "      <td>0</td>\n",
              "      <td>0</td>\n",
              "      <td>0</td>\n",
              "      <td>0</td>\n",
              "      <td>0</td>\n",
              "      <td>1</td>\n",
              "      <td>0</td>\n",
              "      <td>0</td>\n",
              "    </tr>\n",
              "    <tr>\n",
              "      <th>3</th>\n",
              "      <td>0</td>\n",
              "      <td>1</td>\n",
              "      <td>0</td>\n",
              "      <td>0</td>\n",
              "      <td>0</td>\n",
              "      <td>1</td>\n",
              "      <td>0</td>\n",
              "      <td>0</td>\n",
              "      <td>1</td>\n",
              "      <td>0</td>\n",
              "      <td>0</td>\n",
              "      <td>0</td>\n",
              "      <td>0</td>\n",
              "      <td>0</td>\n",
              "      <td>0</td>\n",
              "      <td>0</td>\n",
              "      <td>0</td>\n",
              "      <td>0</td>\n",
              "      <td>0</td>\n",
              "    </tr>\n",
              "    <tr>\n",
              "      <th>4</th>\n",
              "      <td>0</td>\n",
              "      <td>0</td>\n",
              "      <td>0</td>\n",
              "      <td>0</td>\n",
              "      <td>0</td>\n",
              "      <td>0</td>\n",
              "      <td>1</td>\n",
              "      <td>0</td>\n",
              "      <td>1</td>\n",
              "      <td>0</td>\n",
              "      <td>0</td>\n",
              "      <td>0</td>\n",
              "      <td>0</td>\n",
              "      <td>0</td>\n",
              "      <td>0</td>\n",
              "      <td>0</td>\n",
              "      <td>1</td>\n",
              "      <td>0</td>\n",
              "      <td>0</td>\n",
              "    </tr>\n",
              "  </tbody>\n",
              "</table>\n",
              "</div>\n",
              "      <button class=\"colab-df-convert\" onclick=\"convertToInteractive('df-59775acd-aa3a-45e3-8ba1-0fec9a7be432')\"\n",
              "              title=\"Convert this dataframe to an interactive table.\"\n",
              "              style=\"display:none;\">\n",
              "        \n",
              "  <svg xmlns=\"http://www.w3.org/2000/svg\" height=\"24px\"viewBox=\"0 0 24 24\"\n",
              "       width=\"24px\">\n",
              "    <path d=\"M0 0h24v24H0V0z\" fill=\"none\"/>\n",
              "    <path d=\"M18.56 5.44l.94 2.06.94-2.06 2.06-.94-2.06-.94-.94-2.06-.94 2.06-2.06.94zm-11 1L8.5 8.5l.94-2.06 2.06-.94-2.06-.94L8.5 2.5l-.94 2.06-2.06.94zm10 10l.94 2.06.94-2.06 2.06-.94-2.06-.94-.94-2.06-.94 2.06-2.06.94z\"/><path d=\"M17.41 7.96l-1.37-1.37c-.4-.4-.92-.59-1.43-.59-.52 0-1.04.2-1.43.59L10.3 9.45l-7.72 7.72c-.78.78-.78 2.05 0 2.83L4 21.41c.39.39.9.59 1.41.59.51 0 1.02-.2 1.41-.59l7.78-7.78 2.81-2.81c.8-.78.8-2.07 0-2.86zM5.41 20L4 18.59l7.72-7.72 1.47 1.35L5.41 20z\"/>\n",
              "  </svg>\n",
              "      </button>\n",
              "      \n",
              "  <style>\n",
              "    .colab-df-container {\n",
              "      display:flex;\n",
              "      flex-wrap:wrap;\n",
              "      gap: 12px;\n",
              "    }\n",
              "\n",
              "    .colab-df-convert {\n",
              "      background-color: #E8F0FE;\n",
              "      border: none;\n",
              "      border-radius: 50%;\n",
              "      cursor: pointer;\n",
              "      display: none;\n",
              "      fill: #1967D2;\n",
              "      height: 32px;\n",
              "      padding: 0 0 0 0;\n",
              "      width: 32px;\n",
              "    }\n",
              "\n",
              "    .colab-df-convert:hover {\n",
              "      background-color: #E2EBFA;\n",
              "      box-shadow: 0px 1px 2px rgba(60, 64, 67, 0.3), 0px 1px 3px 1px rgba(60, 64, 67, 0.15);\n",
              "      fill: #174EA6;\n",
              "    }\n",
              "\n",
              "    [theme=dark] .colab-df-convert {\n",
              "      background-color: #3B4455;\n",
              "      fill: #D2E3FC;\n",
              "    }\n",
              "\n",
              "    [theme=dark] .colab-df-convert:hover {\n",
              "      background-color: #434B5C;\n",
              "      box-shadow: 0px 1px 3px 1px rgba(0, 0, 0, 0.15);\n",
              "      filter: drop-shadow(0px 1px 2px rgba(0, 0, 0, 0.3));\n",
              "      fill: #FFFFFF;\n",
              "    }\n",
              "  </style>\n",
              "\n",
              "      <script>\n",
              "        const buttonEl =\n",
              "          document.querySelector('#df-59775acd-aa3a-45e3-8ba1-0fec9a7be432 button.colab-df-convert');\n",
              "        buttonEl.style.display =\n",
              "          google.colab.kernel.accessAllowed ? 'block' : 'none';\n",
              "\n",
              "        async function convertToInteractive(key) {\n",
              "          const element = document.querySelector('#df-59775acd-aa3a-45e3-8ba1-0fec9a7be432');\n",
              "          const dataTable =\n",
              "            await google.colab.kernel.invokeFunction('convertToInteractive',\n",
              "                                                     [key], {});\n",
              "          if (!dataTable) return;\n",
              "\n",
              "          const docLinkHtml = 'Like what you see? Visit the ' +\n",
              "            '<a target=\"_blank\" href=https://colab.research.google.com/notebooks/data_table.ipynb>data table notebook</a>'\n",
              "            + ' to learn more about interactive tables.';\n",
              "          element.innerHTML = '';\n",
              "          dataTable['output_type'] = 'display_data';\n",
              "          await google.colab.output.renderOutput(dataTable, element);\n",
              "          const docLink = document.createElement('div');\n",
              "          docLink.innerHTML = docLinkHtml;\n",
              "          element.appendChild(docLink);\n",
              "        }\n",
              "      </script>\n",
              "    </div>\n",
              "  </div>\n",
              "  "
            ]
          },
          "metadata": {},
          "execution_count": 11
        }
      ],
      "source": [
        "movies.head()"
      ]
    },
    {
      "cell_type": "code",
      "execution_count": 12,
      "id": "267ca63f",
      "metadata": {
        "id": "267ca63f",
        "outputId": "9da872b5-ee41-4878-e057-5d74ad1f65b0",
        "colab": {
          "base_uri": "https://localhost:8080/",
          "height": 206
        }
      },
      "outputs": [
        {
          "output_type": "execute_result",
          "data": {
            "text/plain": [
              "        age  sex  occupation\n",
              "0 -0.824422    0          19\n",
              "1  1.554043    1          13\n",
              "2 -0.906438    0          20\n",
              "3 -0.824422    0          19\n",
              "4 -0.086278    1          13"
            ],
            "text/html": [
              "\n",
              "  <div id=\"df-03991d7a-8db0-41b6-9ae4-83e542244f02\">\n",
              "    <div class=\"colab-df-container\">\n",
              "      <div>\n",
              "<style scoped>\n",
              "    .dataframe tbody tr th:only-of-type {\n",
              "        vertical-align: middle;\n",
              "    }\n",
              "\n",
              "    .dataframe tbody tr th {\n",
              "        vertical-align: top;\n",
              "    }\n",
              "\n",
              "    .dataframe thead th {\n",
              "        text-align: right;\n",
              "    }\n",
              "</style>\n",
              "<table border=\"1\" class=\"dataframe\">\n",
              "  <thead>\n",
              "    <tr style=\"text-align: right;\">\n",
              "      <th></th>\n",
              "      <th>age</th>\n",
              "      <th>sex</th>\n",
              "      <th>occupation</th>\n",
              "    </tr>\n",
              "  </thead>\n",
              "  <tbody>\n",
              "    <tr>\n",
              "      <th>0</th>\n",
              "      <td>-0.824422</td>\n",
              "      <td>0</td>\n",
              "      <td>19</td>\n",
              "    </tr>\n",
              "    <tr>\n",
              "      <th>1</th>\n",
              "      <td>1.554043</td>\n",
              "      <td>1</td>\n",
              "      <td>13</td>\n",
              "    </tr>\n",
              "    <tr>\n",
              "      <th>2</th>\n",
              "      <td>-0.906438</td>\n",
              "      <td>0</td>\n",
              "      <td>20</td>\n",
              "    </tr>\n",
              "    <tr>\n",
              "      <th>3</th>\n",
              "      <td>-0.824422</td>\n",
              "      <td>0</td>\n",
              "      <td>19</td>\n",
              "    </tr>\n",
              "    <tr>\n",
              "      <th>4</th>\n",
              "      <td>-0.086278</td>\n",
              "      <td>1</td>\n",
              "      <td>13</td>\n",
              "    </tr>\n",
              "  </tbody>\n",
              "</table>\n",
              "</div>\n",
              "      <button class=\"colab-df-convert\" onclick=\"convertToInteractive('df-03991d7a-8db0-41b6-9ae4-83e542244f02')\"\n",
              "              title=\"Convert this dataframe to an interactive table.\"\n",
              "              style=\"display:none;\">\n",
              "        \n",
              "  <svg xmlns=\"http://www.w3.org/2000/svg\" height=\"24px\"viewBox=\"0 0 24 24\"\n",
              "       width=\"24px\">\n",
              "    <path d=\"M0 0h24v24H0V0z\" fill=\"none\"/>\n",
              "    <path d=\"M18.56 5.44l.94 2.06.94-2.06 2.06-.94-2.06-.94-.94-2.06-.94 2.06-2.06.94zm-11 1L8.5 8.5l.94-2.06 2.06-.94-2.06-.94L8.5 2.5l-.94 2.06-2.06.94zm10 10l.94 2.06.94-2.06 2.06-.94-2.06-.94-.94-2.06-.94 2.06-2.06.94z\"/><path d=\"M17.41 7.96l-1.37-1.37c-.4-.4-.92-.59-1.43-.59-.52 0-1.04.2-1.43.59L10.3 9.45l-7.72 7.72c-.78.78-.78 2.05 0 2.83L4 21.41c.39.39.9.59 1.41.59.51 0 1.02-.2 1.41-.59l7.78-7.78 2.81-2.81c.8-.78.8-2.07 0-2.86zM5.41 20L4 18.59l7.72-7.72 1.47 1.35L5.41 20z\"/>\n",
              "  </svg>\n",
              "      </button>\n",
              "      \n",
              "  <style>\n",
              "    .colab-df-container {\n",
              "      display:flex;\n",
              "      flex-wrap:wrap;\n",
              "      gap: 12px;\n",
              "    }\n",
              "\n",
              "    .colab-df-convert {\n",
              "      background-color: #E8F0FE;\n",
              "      border: none;\n",
              "      border-radius: 50%;\n",
              "      cursor: pointer;\n",
              "      display: none;\n",
              "      fill: #1967D2;\n",
              "      height: 32px;\n",
              "      padding: 0 0 0 0;\n",
              "      width: 32px;\n",
              "    }\n",
              "\n",
              "    .colab-df-convert:hover {\n",
              "      background-color: #E2EBFA;\n",
              "      box-shadow: 0px 1px 2px rgba(60, 64, 67, 0.3), 0px 1px 3px 1px rgba(60, 64, 67, 0.15);\n",
              "      fill: #174EA6;\n",
              "    }\n",
              "\n",
              "    [theme=dark] .colab-df-convert {\n",
              "      background-color: #3B4455;\n",
              "      fill: #D2E3FC;\n",
              "    }\n",
              "\n",
              "    [theme=dark] .colab-df-convert:hover {\n",
              "      background-color: #434B5C;\n",
              "      box-shadow: 0px 1px 3px 1px rgba(0, 0, 0, 0.15);\n",
              "      filter: drop-shadow(0px 1px 2px rgba(0, 0, 0, 0.3));\n",
              "      fill: #FFFFFF;\n",
              "    }\n",
              "  </style>\n",
              "\n",
              "      <script>\n",
              "        const buttonEl =\n",
              "          document.querySelector('#df-03991d7a-8db0-41b6-9ae4-83e542244f02 button.colab-df-convert');\n",
              "        buttonEl.style.display =\n",
              "          google.colab.kernel.accessAllowed ? 'block' : 'none';\n",
              "\n",
              "        async function convertToInteractive(key) {\n",
              "          const element = document.querySelector('#df-03991d7a-8db0-41b6-9ae4-83e542244f02');\n",
              "          const dataTable =\n",
              "            await google.colab.kernel.invokeFunction('convertToInteractive',\n",
              "                                                     [key], {});\n",
              "          if (!dataTable) return;\n",
              "\n",
              "          const docLinkHtml = 'Like what you see? Visit the ' +\n",
              "            '<a target=\"_blank\" href=https://colab.research.google.com/notebooks/data_table.ipynb>data table notebook</a>'\n",
              "            + ' to learn more about interactive tables.';\n",
              "          element.innerHTML = '';\n",
              "          dataTable['output_type'] = 'display_data';\n",
              "          await google.colab.output.renderOutput(dataTable, element);\n",
              "          const docLink = document.createElement('div');\n",
              "          docLink.innerHTML = docLinkHtml;\n",
              "          element.appendChild(docLink);\n",
              "        }\n",
              "      </script>\n",
              "    </div>\n",
              "  </div>\n",
              "  "
            ]
          },
          "metadata": {},
          "execution_count": 12
        }
      ],
      "source": [
        "users.head()"
      ]
    },
    {
      "cell_type": "markdown",
      "id": "7328486a",
      "metadata": {
        "id": "7328486a"
      },
      "source": [
        "### Analysis\n",
        "\n",
        "Let's take some time to analyze a bit our dataset. We can for example plot the the histogram of ratings. What do you observe ? "
      ]
    },
    {
      "cell_type": "code",
      "execution_count": 13,
      "id": "7448d481",
      "metadata": {
        "id": "7448d481",
        "outputId": "82a40529-1488-4564-d7d3-19107d4a91f1",
        "colab": {
          "base_uri": "https://localhost:8080/",
          "height": 447
        }
      },
      "outputs": [
        {
          "output_type": "execute_result",
          "data": {
            "text/plain": [
              "<Axes: >"
            ]
          },
          "metadata": {},
          "execution_count": 13
        },
        {
          "output_type": "display_data",
          "data": {
            "text/plain": [
              "<Figure size 640x480 with 1 Axes>"
            ],
            "image/png": "[encoded data removed]"
          },
          "metadata": {}
        }
      ],
      "source": [
        "ratings[\"rating\"].hist()"
      ]
    },
    {
      "cell_type": "markdown",
      "id": "4c2b0bc9",
      "metadata": {
        "id": "4c2b0bc9"
      },
      "source": [
        "__Plot the different features and analyse them.__"
      ]
    },
    {
      "cell_type": "code",
      "execution_count": 14,
      "id": "343885d0",
      "metadata": {
        "id": "343885d0",
        "outputId": "7420769e-b1f7-4fc8-f505-d6d2c74ad8b2",
        "colab": {
          "base_uri": "https://localhost:8080/",
          "height": 527
        }
      },
      "outputs": [
        {
          "output_type": "execute_result",
          "data": {
            "text/plain": [
              "<Axes: >"
            ]
          },
          "metadata": {},
          "execution_count": 14
        },
        {
          "output_type": "display_data",
          "data": {
            "text/plain": [
              "<Figure size 640x480 with 1 Axes>"
            ],
            "image/png": "[encoded data removed]"
          },
          "metadata": {}
        }
      ],
      "source": [
        "movies.sum().plot.bar()"
      ]
    },
    {
      "cell_type": "code",
      "execution_count": 18,
      "id": "b2ba9421",
      "metadata": {
        "id": "b2ba9421",
        "colab": {
          "base_uri": "https://localhost:8080/",
          "height": 453
        },
        "outputId": "bdc9b3ed-e8b1-4960-838c-e0a7bf1ed030"
      },
      "outputs": [
        {
          "output_type": "display_data",
          "data": {
            "text/plain": [
              "<Figure size 640x480 with 1 Axes>"
            ],
            "image/png": "[encoded data removed]"
          },
          "metadata": {}
        }
      ],
      "source": [
        "# TODO : plot the histogram for the users sex\n",
        "users['sex'].hist()\n",
        "plt.xlabel('Sex')\n",
        "plt.ylabel('Frequency')\n",
        "plt.xticks([0, 1], ['M', 'F'])\n",
        "plt.show()"
      ]
    },
    {
      "cell_type": "code",
      "execution_count": 20,
      "id": "3dc730fa",
      "metadata": {
        "id": "3dc730fa",
        "colab": {
          "base_uri": "https://localhost:8080/",
          "height": 449
        },
        "outputId": "954accde-87b1-4408-f95b-bd18c44c694b"
      },
      "outputs": [
        {
          "output_type": "display_data",
          "data": {
            "text/plain": [
              "<Figure size 640x480 with 1 Axes>"
            ],
            "image/png": "[encoded data removed]"
          },
          "metadata": {}
        }
      ],
      "source": [
        "# TODO : plot the histogram for the users occupation\n",
        "users[\"occupation\"].hist(bins=len(users['occupation'].unique()))\n",
        "plt.xlabel('Occupation')\n",
        "plt.ylabel('Frequency')\n",
        "plt.show()"
      ]
    },
    {
      "cell_type": "code",
      "execution_count": 22,
      "id": "916315fc",
      "metadata": {
        "id": "916315fc",
        "colab": {
          "base_uri": "https://localhost:8080/",
          "height": 449
        },
        "outputId": "9814ff46-adf8-4fcd-b058-094035a3a5c6"
      },
      "outputs": [
        {
          "output_type": "display_data",
          "data": {
            "text/plain": [
              "<Figure size 640x480 with 1 Axes>"
            ],
            "image/png": "[encoded data removed]"
          },
          "metadata": {}
        }
      ],
      "source": [
        "# TODO : plot the histogram for the users age\n",
        "users[\"age\"].hist(bins=20)\n",
        "plt.xlabel('Age')\n",
        "plt.ylabel('Frequency')\n",
        "plt.show()"
      ]
    },
    {
      "cell_type": "markdown",
      "id": "93ced4d1",
      "metadata": {
        "id": "93ced4d1"
      },
      "source": [
        "Comment the different results you obtain. \n",
        "* What kind of biases can you see ?\n",
        "* How do you think those biases may perturb your model ? \n",
        "* Do you think AI algorithms used also have biases ? \n"
      ]
    },
    {
      "cell_type": "markdown",
      "id": "ee624c46",
      "metadata": {
        "id": "ee624c46"
      },
      "source": [
        "## Part 2 : Preparing the dataset \n",
        "\n",
        "No more analysis, now we want to apply machine learning models to recommend movies according to this dataset.\n",
        "\n",
        "First step is to prepare the dataset in order to make it usable by our models.\n",
        "\n",
        "The following function take the triples from ratings and convert it into X and y, where X are the pair user/movie, and y is the rating to predict.\n",
        "\n",
        "__Question : why did we modify the user index ?__\n"
      ]
    },
    {
      "cell_type": "code",
      "execution_count": 23,
      "id": "2f02046d",
      "metadata": {
        "id": "2f02046d",
        "colab": {
          "base_uri": "https://localhost:8080/"
        },
        "outputId": "9542d891-83f9-4efb-93e8-44554921935d"
      },
      "outputs": [
        {
          "output_type": "stream",
          "name": "stdout",
          "text": [
            "   user_id  movie_id\n",
            "0        0         0\n",
            "1        1         1\n",
            "2        2         2\n",
            "3        3         3\n",
            "4        4         4\n",
            "0    3.0\n",
            "1    3.0\n",
            "2    1.0\n",
            "3    2.0\n",
            "4    1.0\n",
            "Name: rating, dtype: float32\n",
            "Embeddings: 943 users, 1682 movies\n",
            "Dataset shape: (100000, 2)\n",
            "Target shape: (100000,)\n"
          ]
        }
      ],
      "source": [
        "def create_dataset(ratings, top=None):\n",
        "    if top is not None:\n",
        "        ratings.groupby('userId')['rating'].count()\n",
        "\n",
        "    unique_users = ratings.userId.unique()\n",
        "    user_to_index = {old: new for new, old in enumerate(unique_users)}\n",
        "    new_users = ratings.userId.map(user_to_index)\n",
        "\n",
        "    unique_movies = ratings.movieId.unique()\n",
        "    movie_to_index = {old: new for new, old in enumerate(unique_movies)}\n",
        "    new_movies = ratings.movieId.map(movie_to_index)\n",
        "\n",
        "    n_users = unique_users.shape[0]\n",
        "    n_movies = unique_movies.shape[0]\n",
        "\n",
        "    X = pd.DataFrame({'user_id': new_users, 'movie_id': new_movies})\n",
        "    y = ratings['rating'].astype(np.float32)\n",
        "    return (n_users, n_movies), (X, y), (user_to_index, movie_to_index)\n",
        "\n",
        "(n, m), (X, y), _ = create_dataset(ratings)\n",
        "print(X.head())\n",
        "print(y.head())\n",
        "print(f'Embeddings: {n} users, {m} movies')\n",
        "print(f'Dataset shape: {X.shape}')\n",
        "print(f'Target shape: {y.shape}')"
      ]
    },
    {
      "cell_type": "markdown",
      "id": "74f6a686",
      "metadata": {
        "id": "74f6a686"
      },
      "source": [
        "Now, we have to separate our dataset into 3 parts : train, valid and test. By using the train_test_split() function from sklearn.model_selection, put 60% of the data in training, 20% of the data for validation, and 20% in test.\n",
        "\n",
        "Hint : the function divide the input into 2 splits...\n",
        "\n",
        "__Due to the number of entries, you might need to reduce the number of data in training and validation later (personnaly, i have 20% in train and 16% in valid).__"
      ]
    },
    {
      "cell_type": "code",
      "execution_count": 24,
      "id": "ebd7d043",
      "metadata": {
        "id": "ebd7d043",
        "colab": {
          "base_uri": "https://localhost:8080/"
        },
        "outputId": "ca68fdbb-6f9f-4004-da2e-dddff0cf3ca8"
      },
      "outputs": [
        {
          "output_type": "stream",
          "name": "stdout",
          "text": [
            "{'train': 56000, 'val': 24000, 'test': 20000}\n"
          ]
        }
      ],
      "source": [
        "# TO DO : split the datasets\n",
        "\n",
        "# Split data into train and test sets (80% train, 20% test)\n",
        "X_train, X_test, y_train, y_test = train_test_split(X, y, test_size=0.2, random_state=42)\n",
        "\n",
        "# Split train set into train and validation sets (70% train, 30% validation)\n",
        "X_train, X_valid, y_train, y_valid = train_test_split(X_train, y_train, test_size=0.3, random_state=42)\n",
        "\n",
        "datasets = {'train': (X_train, y_train), 'val': (X_valid, y_valid), 'test': (X_test, y_test)}\n",
        "dataset_sizes = {'train': len(X_train), 'val': len(X_valid), 'test': len(X_test)}\n",
        "\n",
        "print(dataset_sizes)"
      ]
    },
    {
      "cell_type": "markdown",
      "id": "08e2f1b8",
      "metadata": {
        "id": "08e2f1b8"
      },
      "source": [
        "Now we have our train, valid and test data, we need to compute the nodes of our graph. \n",
        "\n",
        "Here, our graph is a bit particular. It is a **bipartite graph**, where each part represent different entities (users and movies). In order to allow our models to differentiate users and movies, we'll add a new feature, which is going to be 0 if the node is a user, and 1 if the node is a movie. \n",
        "\n",
        "We end up by concatenating both matrices into a single one, our node matrix (H in the course)"
      ]
    },
    {
      "cell_type": "code",
      "execution_count": 26,
      "id": "265478c5",
      "metadata": {
        "id": "265478c5",
        "colab": {
          "base_uri": "https://localhost:8080/",
          "height": 503
        },
        "outputId": "2b6967dc-9f7b-41a7-a468-9a37e0bd270e"
      },
      "outputs": [
        {
          "output_type": "error",
          "ename": "KeyError",
          "evalue": "ignored",
          "traceback": [
            "\u001b[0;31m---------------------------------------------------------------------------\u001b[0m",
            "\u001b[0;31mKeyError\u001b[0m                                  Traceback (most recent call last)",
            "\u001b[0;32m/usr/local/lib/python3.9/dist-packages/pandas/core/indexes/base.py\u001b[0m in \u001b[0;36mget_loc\u001b[0;34m(self, key, method, tolerance)\u001b[0m\n\u001b[1;32m   3801\u001b[0m             \u001b[0;32mtry\u001b[0m\u001b[0;34m:\u001b[0m\u001b[0;34m\u001b[0m\u001b[0;34m\u001b[0m\u001b[0m\n\u001b[0;32m-> 3802\u001b[0;31m                 \u001b[0;32mreturn\u001b[0m \u001b[0mself\u001b[0m\u001b[0;34m.\u001b[0m\u001b[0m_engine\u001b[0m\u001b[0;34m.\u001b[0m\u001b[0mget_loc\u001b[0m\u001b[0;34m(\u001b[0m\u001b[0mcasted_key\u001b[0m\u001b[0;34m)\u001b[0m\u001b[0;34m\u001b[0m\u001b[0;34m\u001b[0m\u001b[0m\n\u001b[0m\u001b[1;32m   3803\u001b[0m             \u001b[0;32mexcept\u001b[0m \u001b[0mKeyError\u001b[0m \u001b[0;32mas\u001b[0m \u001b[0merr\u001b[0m\u001b[0;34m:\u001b[0m\u001b[0;34m\u001b[0m\u001b[0;34m\u001b[0m\u001b[0m\n",
            "\u001b[0;32m/usr/local/lib/python3.9/dist-packages/pandas/_libs/index.pyx\u001b[0m in \u001b[0;36mpandas._libs.index.IndexEngine.get_loc\u001b[0;34m()\u001b[0m\n",
            "\u001b[0;32m/usr/local/lib/python3.9/dist-packages/pandas/_libs/index.pyx\u001b[0m in \u001b[0;36mpandas._libs.index.IndexEngine.get_loc\u001b[0;34m()\u001b[0m\n",
            "\u001b[0;32mpandas/_libs/hashtable_class_helper.pxi\u001b[0m in \u001b[0;36mpandas._libs.hashtable.PyObjectHashTable.get_item\u001b[0;34m()\u001b[0m\n",
            "\u001b[0;32mpandas/_libs/hashtable_class_helper.pxi\u001b[0m in \u001b[0;36mpandas._libs.hashtable.PyObjectHashTable.get_item\u001b[0;34m()\u001b[0m\n",
            "\u001b[0;31mKeyError\u001b[0m: 'user_id'",
            "\nThe above exception was the direct cause of the following exception:\n",
            "\u001b[0;31mKeyError\u001b[0m                                  Traceback (most recent call last)",
            "\u001b[0;32m<ipython-input-26-2d5ed1589d77>\u001b[0m in \u001b[0;36m<cell line: 17>\u001b[0;34m()\u001b[0m\n\u001b[1;32m     15\u001b[0m \u001b[0;34m\u001b[0m\u001b[0m\n\u001b[1;32m     16\u001b[0m \u001b[0;34m\u001b[0m\u001b[0m\n\u001b[0;32m---> 17\u001b[0;31m \u001b[0mnodes\u001b[0m \u001b[0;34m=\u001b[0m \u001b[0mcompute_nodes\u001b[0m\u001b[0;34m(\u001b[0m\u001b[0musers\u001b[0m\u001b[0;34m,\u001b[0m \u001b[0mmovies\u001b[0m\u001b[0;34m)\u001b[0m\u001b[0;34m\u001b[0m\u001b[0;34m\u001b[0m\u001b[0m\n\u001b[0m",
            "\u001b[0;32m<ipython-input-26-2d5ed1589d77>\u001b[0m in \u001b[0;36mcompute_nodes\u001b[0;34m(users, movies)\u001b[0m\n\u001b[1;32m      3\u001b[0m \u001b[0;34m\u001b[0m\u001b[0m\n\u001b[1;32m      4\u001b[0m     \u001b[0;31m# Create user node matrix with binary feature\u001b[0m\u001b[0;34m\u001b[0m\u001b[0;34m\u001b[0m\u001b[0m\n\u001b[0;32m----> 5\u001b[0;31m     \u001b[0muser_nodes\u001b[0m \u001b[0;34m=\u001b[0m \u001b[0mnp\u001b[0m\u001b[0;34m.\u001b[0m\u001b[0mc_\u001b[0m\u001b[0;34m[\u001b[0m\u001b[0musers\u001b[0m\u001b[0;34m[\u001b[0m\u001b[0;34m'user_id'\u001b[0m\u001b[0;34m]\u001b[0m\u001b[0;34m,\u001b[0m \u001b[0mnp\u001b[0m\u001b[0;34m.\u001b[0m\u001b[0mzeros\u001b[0m\u001b[0;34m(\u001b[0m\u001b[0mlen\u001b[0m\u001b[0;34m(\u001b[0m\u001b[0musers\u001b[0m\u001b[0;34m)\u001b[0m\u001b[0;34m,\u001b[0m \u001b[0mdtype\u001b[0m\u001b[0;34m=\u001b[0m\u001b[0mint\u001b[0m\u001b[0;34m)\u001b[0m\u001b[0;34m,\u001b[0m \u001b[0mnp\u001b[0m\u001b[0;34m.\u001b[0m\u001b[0mones\u001b[0m\u001b[0;34m(\u001b[0m\u001b[0mlen\u001b[0m\u001b[0;34m(\u001b[0m\u001b[0musers\u001b[0m\u001b[0;34m)\u001b[0m\u001b[0;34m,\u001b[0m \u001b[0mdtype\u001b[0m\u001b[0;34m=\u001b[0m\u001b[0mint\u001b[0m\u001b[0;34m)\u001b[0m\u001b[0;34m]\u001b[0m\u001b[0;34m\u001b[0m\u001b[0;34m\u001b[0m\u001b[0m\n\u001b[0m\u001b[1;32m      6\u001b[0m \u001b[0;34m\u001b[0m\u001b[0m\n\u001b[1;32m      7\u001b[0m     \u001b[0;31m# Create movie node matrix with binary feature\u001b[0m\u001b[0;34m\u001b[0m\u001b[0;34m\u001b[0m\u001b[0m\n",
            "\u001b[0;32m/usr/local/lib/python3.9/dist-packages/pandas/core/frame.py\u001b[0m in \u001b[0;36m__getitem__\u001b[0;34m(self, key)\u001b[0m\n\u001b[1;32m   3805\u001b[0m             \u001b[0;32mif\u001b[0m \u001b[0mself\u001b[0m\u001b[0;34m.\u001b[0m\u001b[0mcolumns\u001b[0m\u001b[0;34m.\u001b[0m\u001b[0mnlevels\u001b[0m \u001b[0;34m>\u001b[0m \u001b[0;36m1\u001b[0m\u001b[0;34m:\u001b[0m\u001b[0;34m\u001b[0m\u001b[0;34m\u001b[0m\u001b[0m\n\u001b[1;32m   3806\u001b[0m                 \u001b[0;32mreturn\u001b[0m \u001b[0mself\u001b[0m\u001b[0;34m.\u001b[0m\u001b[0m_getitem_multilevel\u001b[0m\u001b[0;34m(\u001b[0m\u001b[0mkey\u001b[0m\u001b[0;34m)\u001b[0m\u001b[0;34m\u001b[0m\u001b[0;34m\u001b[0m\u001b[0m\n\u001b[0;32m-> 3807\u001b[0;31m             \u001b[0mindexer\u001b[0m \u001b[0;34m=\u001b[0m \u001b[0mself\u001b[0m\u001b[0;34m.\u001b[0m\u001b[0mcolumns\u001b[0m\u001b[0;34m.\u001b[0m\u001b[0mget_loc\u001b[0m\u001b[0;34m(\u001b[0m\u001b[0mkey\u001b[0m\u001b[0;34m)\u001b[0m\u001b[0;34m\u001b[0m\u001b[0;34m\u001b[0m\u001b[0m\n\u001b[0m\u001b[1;32m   3808\u001b[0m             \u001b[0;32mif\u001b[0m \u001b[0mis_integer\u001b[0m\u001b[0;34m(\u001b[0m\u001b[0mindexer\u001b[0m\u001b[0;34m)\u001b[0m\u001b[0;34m:\u001b[0m\u001b[0;34m\u001b[0m\u001b[0;34m\u001b[0m\u001b[0m\n\u001b[1;32m   3809\u001b[0m                 \u001b[0mindexer\u001b[0m \u001b[0;34m=\u001b[0m \u001b[0;34m[\u001b[0m\u001b[0mindexer\u001b[0m\u001b[0;34m]\u001b[0m\u001b[0;34m\u001b[0m\u001b[0;34m\u001b[0m\u001b[0m\n",
            "\u001b[0;32m/usr/local/lib/python3.9/dist-packages/pandas/core/indexes/base.py\u001b[0m in \u001b[0;36mget_loc\u001b[0;34m(self, key, method, tolerance)\u001b[0m\n\u001b[1;32m   3802\u001b[0m                 \u001b[0;32mreturn\u001b[0m \u001b[0mself\u001b[0m\u001b[0;34m.\u001b[0m\u001b[0m_engine\u001b[0m\u001b[0;34m.\u001b[0m\u001b[0mget_loc\u001b[0m\u001b[0;34m(\u001b[0m\u001b[0mcasted_key\u001b[0m\u001b[0;34m)\u001b[0m\u001b[0;34m\u001b[0m\u001b[0;34m\u001b[0m\u001b[0m\n\u001b[1;32m   3803\u001b[0m             \u001b[0;32mexcept\u001b[0m \u001b[0mKeyError\u001b[0m \u001b[0;32mas\u001b[0m \u001b[0merr\u001b[0m\u001b[0;34m:\u001b[0m\u001b[0;34m\u001b[0m\u001b[0;34m\u001b[0m\u001b[0m\n\u001b[0;32m-> 3804\u001b[0;31m                 \u001b[0;32mraise\u001b[0m \u001b[0mKeyError\u001b[0m\u001b[0;34m(\u001b[0m\u001b[0mkey\u001b[0m\u001b[0;34m)\u001b[0m \u001b[0;32mfrom\u001b[0m \u001b[0merr\u001b[0m\u001b[0;34m\u001b[0m\u001b[0;34m\u001b[0m\u001b[0m\n\u001b[0m\u001b[1;32m   3805\u001b[0m             \u001b[0;32mexcept\u001b[0m \u001b[0mTypeError\u001b[0m\u001b[0;34m:\u001b[0m\u001b[0;34m\u001b[0m\u001b[0;34m\u001b[0m\u001b[0m\n\u001b[1;32m   3806\u001b[0m                 \u001b[0;31m# If we have a listlike key, _check_indexing_error will raise\u001b[0m\u001b[0;34m\u001b[0m\u001b[0;34m\u001b[0m\u001b[0m\n",
            "\u001b[0;31mKeyError\u001b[0m: 'user_id'"
          ]
        }
      ],
      "source": [
        "def compute_nodes(users, movies):\n",
        "    # TODO : Create the nodes\n",
        "\n",
        "    # Create user node matrix with binary feature\n",
        "    user_nodes = np.c_[users['user_id'], np.zeros(len(users), dtype=int), np.ones(len(users), dtype=int)]\n",
        "    \n",
        "    # Create movie node matrix with binary feature\n",
        "    movie_nodes = np.c_[movies['movie_id'], np.ones(len(movies), dtype=int), np.zeros(len(movies), dtype=int)]\n",
        "    \n",
        "    # Concatenate user and movie node matrices\n",
        "    nodes = np.concatenate([user_nodes, movie_nodes], axis=0)\n",
        "    \n",
        "    return nodes\n",
        "\n",
        "\n",
        "\n",
        "nodes = compute_nodes(users, movies)"
      ]
    },
    {
      "cell_type": "markdown",
      "id": "be3137b5",
      "metadata": {
        "id": "be3137b5"
      },
      "source": [
        "We also compute the corresponding adjacency matrix.\n",
        "\n",
        "__Question : why do we only use X_train to compute the adjacency matrix ?__"
      ]
    },
    {
      "cell_type": "code",
      "execution_count": null,
      "id": "c446f173",
      "metadata": {
        "id": "c446f173"
      },
      "outputs": [],
      "source": [
        "def compute_adjacency_matrix(X_train):\n",
        "    #TODO\n",
        "    \n",
        "adjacency_matrix = compute_adjacency_matrix(X_train)\n",
        "full_adj = compute_adjacency_matrix(X)"
      ]
    },
    {
      "cell_type": "markdown",
      "id": "e37db4fb",
      "metadata": {
        "id": "e37db4fb"
      },
      "source": [
        "__By using matplotlib, plot both adjacency_matrix. What do you observe ?__\n",
        "\n",
        "Once it is done, we won't use full_adj anymore"
      ]
    },
    {
      "cell_type": "code",
      "execution_count": null,
      "id": "ad650096",
      "metadata": {
        "id": "ad650096"
      },
      "outputs": [],
      "source": [
        "# TODO : plot the adjacency matrix and the full_adj matrix\n",
        "\n"
      ]
    },
    {
      "cell_type": "markdown",
      "id": "f06f5374",
      "metadata": {
        "id": "f06f5374"
      },
      "source": [
        "## Part 3 : Training section\n",
        "\n",
        "We now have almost everything we need to train our model. First thing is to convert X_train, y_train, X_valid, y_valid, X_test and y_test into tensors (your job)"
      ]
    },
    {
      "cell_type": "code",
      "execution_count": null,
      "id": "fba3b711",
      "metadata": {
        "id": "fba3b711"
      },
      "outputs": [],
      "source": [
        "# TODO : Transform your data into Tensors\n",
        "\n"
      ]
    },
    {
      "cell_type": "markdown",
      "id": "960bea3f",
      "metadata": {
        "id": "960bea3f"
      },
      "source": [
        "Next step is to define a GNN Layer. Complete the following code in order to compute a simple GNN layer \\sigma(AHW+b)"
      ]
    },
    {
      "cell_type": "code",
      "execution_count": null,
      "id": "6fd5075e",
      "metadata": {
        "id": "6fd5075e"
      },
      "outputs": [],
      "source": [
        "class GNN_layer(nn.Module):\n",
        "    def __init__(self, input_dim, output_dim=64): \n",
        "        super(GNN_layer,self).__init__()\n",
        "        \n",
        "        # TODO :\n",
        "        # Attributes : input dim and output dim\n",
        "        \n",
        "        # Non linearity : ReLU for example\n",
        "        \n",
        "        #Layer : Linear layer\n",
        "\n",
        "        \n",
        "    def forward(self, nodes, adjacency):\n",
        "        # TODO : \n",
        "        # AH multiplication\n",
        "        \n",
        "        # Apply Linear layer and non linearity\n",
        "\n",
        "        return out"
      ]
    },
    {
      "cell_type": "markdown",
      "id": "aea675c1",
      "metadata": {
        "id": "aea675c1"
      },
      "source": [
        "We now define our model. This model takes as input the nodes, the adjacency matrix, and the list of pair to predict X_(train/valid/test). It returns a value for each pair to predict. \n",
        "\n",
        "Complete the model in order to use one gnn layer you previously computed, and one linear layer to predict for each pair. "
      ]
    },
    {
      "cell_type": "code",
      "execution_count": null,
      "id": "b0df54b8",
      "metadata": {
        "id": "b0df54b8"
      },
      "outputs": [],
      "source": [
        "class GNN_model(nn.Module):\n",
        "    def __init__(self, input_dim, hidden_dim, output_dim):\n",
        "        super(GNN_model, self).__init__()\n",
        "        # TO DO\n",
        "        # Attributes : intput dim, hidden dim (and output dim ?)\n",
        "        \n",
        "        # Add a GNN layer\n",
        "\n",
        "        \n",
        "        # Decision layer. Do we need an activation function ? If not, why ? If yes, which one ?\n",
        "\n",
        "        \n",
        "    def forward(self, nodes, adjacency, X):\n",
        "        # TO DO \n",
        "        # Apply GNN layer : \n",
        "        \n",
        "        \n",
        "        # Concatenate each pair of features for X. Given, because we are generous :)\n",
        "        node_pair = nodes[X].reshape((X.shape[0], 2*self.hidden_dim))\n",
        "        # Apply decision layer. Not given because we are not THAT generous \n",
        "        \n",
        "        return out\n",
        "\n",
        "        "
      ]
    },
    {
      "cell_type": "markdown",
      "id": "43ecf9a7",
      "metadata": {
        "id": "43ecf9a7"
      },
      "source": [
        "Time to train ! \n",
        "\n",
        "* Start by transforming the adjacency matrix and the nodes matrix into tensors.\n",
        "* At each epochs, make one step of training, and one step of validation, and save both losses into lists\n",
        "* Plot the training curves."
      ]
    },
    {
      "cell_type": "code",
      "execution_count": null,
      "id": "81827a15",
      "metadata": {
        "id": "81827a15"
      },
      "outputs": [],
      "source": [
        "nb_epochs = 1000\n",
        "\n",
        "loss_train = []\n",
        "loss_valid = []\n",
        "\n",
        "nodes_tensor = torch.from_numpy(nodes).float().to(device)\n",
        "adjacency_matrix_tensor = torch.from_numpy(adjacency_matrix).float().to(device)\n",
        "\n",
        "# TO DO : Define your model, your loss and your optimizer\n",
        "\n",
        "for i in tqdm(range(nb_epochs)):\n",
        "    # TO DO \n",
        "    # As you've done in previous TP, apply your model on your TRAIN data, compute the loss and backpropagate it. \n",
        "    # Also add your loss to your list\n",
        "\n",
        "    # Now, apply your model on your VALID data. Compute your loss but do NOT backpropagate it. It is only for validation !\n",
        "    # Also add your lost to your list\n",
        "    \n",
        "# TO DO : Apply you model on TEST data and compute the Root Mean-Squared Error (outside the loop)\n",
        "\n",
        "\n",
        "# TO DO : plot both loss train and loss valid\n",
        "\n",
        "\n",
        "del model"
      ]
    },
    {
      "cell_type": "markdown",
      "id": "cef69cc3",
      "metadata": {
        "id": "cef69cc3"
      },
      "source": [
        "We now want to improve our GNN model into a Vanilla GNN :  $\\sigma((A+I)HW)$.\n",
        "\n",
        " No need to change our layer, we only need to change our adjacency matrix ! "
      ]
    },
    {
      "cell_type": "code",
      "execution_count": null,
      "id": "6e6a9d90",
      "metadata": {
        "id": "6e6a9d90"
      },
      "outputs": [],
      "source": [
        "nb_epochs = 1000\n",
        "\n",
        "loss_train = []\n",
        "loss_valid = []\n",
        "\n",
        "nodes_tensor = torch.from_numpy(nodes).float().to(device)\n",
        "# TO DO : modify your adjacency matrix tensor. The rest should not change from previous question\n",
        "\n",
        "# TO DO : Define your model, your loss and your optimizer\n",
        "\n",
        "for i in tqdm(range(nb_epochs)):\n",
        "    # TO DO \n",
        "    # As you've done in previous TP, apply your model on your TRAIN data, compute the loss and backpropagate it. \n",
        "    # Also add your loss to your list\n",
        "\n",
        "    # Now, apply your model on your VALID data. Compute your loss but do NOT backpropagate it. It is only for validation !\n",
        "    # Also add your lost to your list\n",
        "    \n",
        "# TO DO : Apply you model on TEST data and compute the Root Mean-Squared Error (outside the loop)\n",
        "\n",
        "\n",
        "# TO DO : plot both loss train and loss valid\n",
        "\n",
        "\n",
        "del model"
      ]
    },
    {
      "cell_type": "markdown",
      "id": "2fe6806a",
      "metadata": {
        "id": "2fe6806a"
      },
      "source": [
        "Finally, we want to implement the General GNN. This time, we have to modify our GNN layer in order to compute 2 linear layers :\n",
        "*  one for the Adjacency Matrix\n",
        "*  one for the Identity Matrix."
      ]
    },
    {
      "cell_type": "code",
      "execution_count": null,
      "id": "ca232617",
      "metadata": {
        "id": "ca232617"
      },
      "outputs": [],
      "source": [
        "class GNN_layer_general(nn.Module):\n",
        "    def __init__(self, input_dim, output_dim=64): \n",
        "        super(GNN_layer_general,self).__init__()\n",
        "        # TO DO :  change the definition of your GNN Layer for General GNN \\sigma(AHW1 + IHW2)\n",
        "        # Attributes : input dim and output dim\n",
        "\n",
        "        \n",
        "        # Non linearity : ReLU for example\n",
        "\n",
        "        \n",
        "        # Layer : Linear layers\n",
        "\n",
        "    def forward(self, nodes, adjacency):\n",
        "        # TO DO : Compute your general GNN\n",
        "\n",
        "        return out_1+out_2 # <= this is an hint, but you can modify it if this helps you *WINK WINK*"
      ]
    },
    {
      "cell_type": "code",
      "execution_count": null,
      "id": "2f5fd7bf",
      "metadata": {
        "id": "2f5fd7bf"
      },
      "outputs": [],
      "source": [
        "class GNN_model(nn.Module):\n",
        "    def __init__(self, input_dim, hidden_dim, output_dim):\n",
        "        super(GNN_model, self).__init__()\n",
        "        # TO DO : redefine your GNN model. SHould not change from before, but you need to reexecute it\n",
        "        \n",
        "        # Attributes : intput dim, hidden dim (and output dim ?)\n",
        "\n",
        "        # Add a GNN layer\n",
        "\n",
        "        \n",
        "        # Out layer. Do we need an activation function ? \n",
        "        \n",
        "        \n",
        "    def forward(self, nodes, adjacency, X):\n",
        "        # TO DO :\n",
        "        # Apply GNN layer : \n",
        "        \n",
        "        \n",
        "        # Concatenate each pair of features for X. Given, because we are generous :)\n",
        "        node_pair = nodes[X].reshape((X.shape[0], 2*self.hidden_dim))\n",
        "        # Apply decision layer. Not given because we are not THAT generous \n",
        "        \n",
        "        return out\n"
      ]
    },
    {
      "cell_type": "code",
      "execution_count": null,
      "id": "24b1a51f",
      "metadata": {
        "id": "24b1a51f"
      },
      "outputs": [],
      "source": [
        "nb_epochs = 1000\n",
        "\n",
        "loss_train = []\n",
        "loss_valid = []\n",
        "\n",
        "nodes_tensor = torch.from_numpy(nodes).float().to(device)\n",
        "# TO DO : modify your adjacency matrix tensor. The rest should not change from previous question\n",
        "\n",
        "# TO DO : Define your model, your loss and your optimizer\n",
        "\n",
        "for i in tqdm(range(nb_epochs)):\n",
        "    # TO DO \n",
        "    # As you've done in previous TP, apply your model on your TRAIN data, compute the loss and backpropagate it. \n",
        "    # Also add your loss to your list\n",
        "\n",
        "    # Now, apply your model on your VALID data. Compute your loss but do NOT backpropagate it. It is only for validation !\n",
        "    # Also add your lost to your list\n",
        "    \n",
        "# TO DO : Apply you model on TEST data and compute the Root Mean-Squared Error (outside the loop)\n",
        "\n",
        "\n",
        "# TO DO : plot both loss train and loss valid\n",
        "\n",
        "\n",
        "del model"
      ]
    },
    {
      "cell_type": "markdown",
      "id": "dfedaa18",
      "metadata": {
        "id": "dfedaa18"
      },
      "source": [
        "__Some Meme for The end__\n",
        "<div align ='center'><img src=\"https://i.imgflip.com/7irtot.jpg\" height='200' title=\"made at imgflip.com\"/>\n",
        "\n",
        "<img src=\"https://i.imgflip.com/7irtuv.jpg\" height='200'  title=\"made at imgflip.com\"/>\n",
        "\n",
        "<img src=\"https://i.imgflip.com/7iru6r.jpg\" height='200' title=\"made at imgflip.com\"/>\n",
        "<img src=\"https://i.imgflip.com/7iru46.jpg\" height='200' title=\"made at imgflip.com\"/>\n",
        "\n",
        "\n",
        "</div>"
      ]
    }
  ],
  "metadata": {
    "kernelspec": {
      "display_name": "Python 3 (ipykernel)",
      "language": "python",
      "name": "python3"
    },
    "language_info": {
      "codemirror_mode": {
        "name": "ipython",
        "version": 3
      },
      "file_extension": ".py",
      "mimetype": "text/x-python",
      "name": "python",
      "nbconvert_exporter": "python",
      "pygments_lexer": "ipython3",
      "version": "3.8.10"
    },
    "colab": {
      "provenance": [],
      "include_colab_link": true
    },
    "accelerator": "GPU",
    "gpuClass": "standard"
  },
  "nbformat": 4,
  "nbformat_minor": 5
}