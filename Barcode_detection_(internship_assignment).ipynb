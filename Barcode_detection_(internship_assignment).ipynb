{
  "nbformat": 4,
  "nbformat_minor": 0,
  "metadata": {
    "colab": {
      "provenance": [],
      "toc_visible": true,
      "authorship_tag": "ABX9TyMiugDgzoeg7iDEb1GWjRia",
      "include_colab_link": true
    },
    "kernelspec": {
      "name": "python3",
      "display_name": "Python 3"
    },
    "language_info": {
      "name": "python"
    }
  },
  "cells": [
    {
      "cell_type": "markdown",
      "metadata": {
        "id": "view-in-github",
        "colab_type": "text"
      },
      "source": [
        "<a href=\"https://colab.research.google.com/github/rayaneghilene/ENSEA_AI_Labs/blob/main/Barcode_detection_(internship_assignment).ipynb\" target=\"_parent\"><img src=\"https://colab.research.google.com/assets/colab-badge.svg\" alt=\"Open In Colab\"/></a>"
      ]
    },
    {
      "cell_type": "markdown",
      "source": [
        "# Barcode detection"
      ],
      "metadata": {
        "id": "dsBbiSIwhw-i"
      }
    },
    {
      "cell_type": "markdown",
      "source": [
        "## Normal Barcode detection"
      ],
      "metadata": {
        "id": "HRyQZ4P1sNYP"
      }
    },
    {
      "cell_type": "code",
      "source": [
        "!apt-get install libzbar0\n",
        "!pip install pyzbar\n"
      ],
      "metadata": {
        "colab": {
          "base_uri": "https://localhost:8080/"
        },
        "id": "KGg2iurBktt8",
        "outputId": "c4c766e9-8f11-402d-a347-377d70d097f6"
      },
      "execution_count": null,
      "outputs": [
        {
          "output_type": "stream",
          "name": "stdout",
          "text": [
            "Reading package lists... Done\n",
            "Building dependency tree       \n",
            "Reading state information... Done\n",
            "The following additional packages will be installed:\n",
            "  libv4l-0 libv4lconvert0\n",
            "The following NEW packages will be installed:\n",
            "  libv4l-0 libv4lconvert0 libzbar0\n",
            "0 upgraded, 3 newly installed, 0 to remove and 15 not upgraded.\n",
            "Need to get 238 kB of archives.\n",
            "After this operation, 817 kB of additional disk space will be used.\n",
            "Get:1 http://archive.ubuntu.com/ubuntu focal/main amd64 libv4lconvert0 amd64 1.18.0-2build1 [76.5 kB]\n",
            "Get:2 http://archive.ubuntu.com/ubuntu focal/main amd64 libv4l-0 amd64 1.18.0-2build1 [41.9 kB]\n",
            "Get:3 http://archive.ubuntu.com/ubuntu focal/universe amd64 libzbar0 amd64 0.23-1.3 [119 kB]\n",
            "Fetched 238 kB in 0s (2,025 kB/s)\n",
            "Selecting previously unselected package libv4lconvert0:amd64.\n",
            "(Reading database ... 123069 files and directories currently installed.)\n",
            "Preparing to unpack .../libv4lconvert0_1.18.0-2build1_amd64.deb ...\n",
            "Unpacking libv4lconvert0:amd64 (1.18.0-2build1) ...\n",
            "Selecting previously unselected package libv4l-0:amd64.\n",
            "Preparing to unpack .../libv4l-0_1.18.0-2build1_amd64.deb ...\n",
            "Unpacking libv4l-0:amd64 (1.18.0-2build1) ...\n",
            "Selecting previously unselected package libzbar0:amd64.\n",
            "Preparing to unpack .../libzbar0_0.23-1.3_amd64.deb ...\n",
            "Unpacking libzbar0:amd64 (0.23-1.3) ...\n",
            "Setting up libv4lconvert0:amd64 (1.18.0-2build1) ...\n",
            "Setting up libv4l-0:amd64 (1.18.0-2build1) ...\n",
            "Setting up libzbar0:amd64 (0.23-1.3) ...\n",
            "Processing triggers for libc-bin (2.31-0ubuntu9.9) ...\n",
            "Looking in indexes: https://pypi.org/simple, https://us-python.pkg.dev/colab-wheels/public/simple/\n",
            "Collecting pyzbar\n",
            "  Downloading pyzbar-0.1.9-py2.py3-none-any.whl (32 kB)\n",
            "Installing collected packages: pyzbar\n",
            "Successfully installed pyzbar-0.1.9\n"
          ]
        }
      ]
    },
    {
      "cell_type": "code",
      "execution_count": null,
      "metadata": {
        "id": "J7SvMTYhhdUL"
      },
      "outputs": [],
      "source": [
        "import cv2\n",
        "from PIL import Image\n",
        "from io import BytesIO\n",
        "from IPython.display import display\n",
        "from pyzbar import pyzbar"
      ]
    },
    {
      "cell_type": "code",
      "source": [
        "def detect_barcodes(image):\n",
        "    gray = cv2.cvtColor(image, cv2.COLOR_BGR2GRAY)\n",
        "    barcodes = pyzbar.decode(gray)\n",
        "\n",
        "    for barcode in barcodes:\n",
        "        (x, y, w, h) = barcode.rect\n",
        "        cv2.rectangle(image, (x, y), (x + w, y + h), (0, 255, 0), 2)\n",
        "\n",
        "        barcode_data = barcode.data.decode(\"utf-8\")\n",
        "        barcode_type = barcode.type\n",
        "\n",
        "        print(\"Barcode Type:\", barcode_type)\n",
        "        print(\"Barcode Data:\", barcode_data)\n",
        "\n",
        "    display(Image.fromarray(cv2.cvtColor(image, cv2.COLOR_BGR2RGB)))"
      ],
      "metadata": {
        "id": "w_ut5MnRl0OF"
      },
      "execution_count": null,
      "outputs": []
    },
    {
      "cell_type": "code",
      "source": [
        "image_path = \"barcode.jpg\"\n",
        "image = cv2.imread(image_path)\n",
        "\n",
        "if image is not None:\n",
        "    detect_barcodes(image)\n",
        "else:\n",
        "    print(\"Failed to load the image:\", image_path)"
      ],
      "metadata": {
        "colab": {
          "base_uri": "https://localhost:8080/",
          "height": 157
        },
        "id": "Ya7rIGrAp4kA",
        "outputId": "75dfb3b4-3462-4715-f18d-e2081ec5605b"
      },
      "execution_count": null,
      "outputs": [
        {
          "output_type": "stream",
          "name": "stdout",
          "text": [
            "Barcode Type: CODE39\n",
            "Barcode Data: 12345678\n"
          ]
        },
        {
          "output_type": "display_data",
          "data": {
            "text/plain": [
              "<PIL.Image.Image image mode=RGB size=249x105 at 0x7FDC211F7640>"
            ],
            "image/png": "[encoded data removed]"
          },
          "metadata": {}
        }
      ]
    },
    {
      "cell_type": "markdown",
      "source": [
        "##Barcode detection in case the image is unreadable using deep learning"
      ],
      "metadata": {
        "id": "nD0QuQBBsB8p"
      }
    },
    {
      "cell_type": "markdown",
      "source": [
        "### Dataset"
      ],
      "metadata": {
        "id": "bp4WeXJVFyH4"
      }
    },
    {
      "cell_type": "markdown",
      "source": [
        "### Creation of a CNN model"
      ],
      "metadata": {
        "id": "klMgcmcUFpan"
      }
    },
    {
      "cell_type": "markdown",
      "source": [
        "In this code, we use the Sequential model from Keras and add the desired layers one by one. Each block consists of a convolutional layer (Conv2D), followed by batch normalization (BatchNormalization), rectified linear unit activation (Activation('relu')), and max pooling (MaxPooling2D)."
      ],
      "metadata": {
        "id": "WINtJGcSDSQ4"
      }
    },
    {
      "cell_type": "code",
      "source": [
        "from keras.models import Sequential\n",
        "from keras.layers import Conv2D, Activation, MaxPooling2D, BatchNormalization\n",
        "\n",
        "# Build the CNN model\n",
        "model = Sequential()\n",
        "\n",
        "input_height = 128\n",
        "input_width = 128\n",
        "input_channels = 3\n",
        "\n",
        "# Block 1\n",
        "model.add(Conv2D(32, (3, 3), strides=(1, 1), padding='same', input_shape=(input_height, input_width, input_channels)))\n",
        "model.add(BatchNormalization())\n",
        "model.add(Activation('relu'))\n",
        "model.add(MaxPooling2D(pool_size=(2, 2)))\n",
        "\n",
        "# Block 2\n",
        "model.add(Conv2D(64, (3, 3), strides=(1, 1), padding='same'))\n",
        "model.add(BatchNormalization())\n",
        "model.add(Activation('relu'))\n",
        "model.add(MaxPooling2D(pool_size=(2, 2)))\n",
        "\n",
        "# Block 3\n",
        "model.add(Conv2D(128, (3, 3), strides=(1, 1), padding='same'))\n",
        "model.add(BatchNormalization())\n",
        "model.add(Activation('relu'))\n",
        "model.add(MaxPooling2D(pool_size=(2, 2)))\n",
        "\n",
        "# Block 4\n",
        "model.add(Conv2D(256, (3, 3), strides=(1, 1), padding='same'))\n",
        "model.add(BatchNormalization())\n",
        "model.add(Activation('relu'))\n",
        "model.add(MaxPooling2D(pool_size=(2, 2)))\n",
        "\n",
        "# Print the model summary\n",
        "model.summary()\n"
      ],
      "metadata": {
        "id": "y0UyCSR0ryKj"
      },
      "execution_count": null,
      "outputs": []
    }
  ]
}