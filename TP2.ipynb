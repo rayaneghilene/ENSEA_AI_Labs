{
  "nbformat": 4,
  "nbformat_minor": 0,
  "metadata": {
    "colab": {
      "provenance": [],
      "toc_visible": true,
      "include_colab_link": true
    },
    "kernelspec": {
      "name": "python3",
      "display_name": "Python 3"
    },
    "gpuClass": "standard"
  },
  "cells": [
    {
      "cell_type": "markdown",
      "metadata": {
        "id": "view-in-github",
        "colab_type": "text"
      },
      "source": [
        "<a href=\"https://colab.research.google.com/github/rayaneghilene/ENSEA_AI_Labs/blob/main/TP2.ipynb\" target=\"_parent\"><img src=\"https://colab.research.google.com/assets/colab-badge.svg\" alt=\"Open In Colab\"/></a>"
      ]
    },
    {
      "cell_type": "markdown",
      "source": [
        "# Lab 2 : Sentiment analysis, a Text Classification Task"
      ],
      "metadata": {
        "id": "32U-eSMtcK7x"
      }
    },
    {
      "cell_type": "code",
      "metadata": {
        "id": "pEJM0h_uctzV",
        "outputId": "d5719416-aa8e-4756-e91e-af435131d35a",
        "colab": {
          "base_uri": "https://localhost:8080/"
        }
      },
      "source": [
        "!pip install gdown\n",
        "import random\n",
        "import numpy as np\n",
        "import csv\n",
        "\n",
        "import torch\n",
        "import torch.nn as nn\n",
        "import torch.optim as optim\n",
        "import torch.nn.functional as F\n",
        "\n",
        "!gdown --id 12Jv1GpSBRCItwxP8LXBXDhOAow609IUP # Dowload a SentimentCSV file\n",
        "\n",
        "# we fix the seeds to get consistent results before every training loop in what follows\n",
        "def fix_seed(seed=234):\n",
        "  torch.manual_seed(seed)\n",
        "  torch.cuda.manual_seed(seed)\n",
        "  np.random.seed(seed)\n",
        "  random.seed(seed)\n",
        "fix_seed()"
      ],
      "execution_count": null,
      "outputs": [
        {
          "output_type": "stream",
          "name": "stdout",
          "text": [
            "Looking in indexes: https://pypi.org/simple, https://us-python.pkg.dev/colab-wheels/public/simple/\n",
            "Requirement already satisfied: gdown in /usr/local/lib/python3.9/dist-packages (4.6.4)\n",
            "Requirement already satisfied: beautifulsoup4 in /usr/local/lib/python3.9/dist-packages (from gdown) (4.11.2)\n",
            "Requirement already satisfied: six in /usr/local/lib/python3.9/dist-packages (from gdown) (1.16.0)\n",
            "Requirement already satisfied: filelock in /usr/local/lib/python3.9/dist-packages (from gdown) (3.10.0)\n",
            "Requirement already satisfied: tqdm in /usr/local/lib/python3.9/dist-packages (from gdown) (4.65.0)\n",
            "Requirement already satisfied: requests[socks] in /usr/local/lib/python3.9/dist-packages (from gdown) (2.27.1)\n",
            "Requirement already satisfied: soupsieve>1.2 in /usr/local/lib/python3.9/dist-packages (from beautifulsoup4->gdown) (2.4)\n",
            "Requirement already satisfied: charset-normalizer~=2.0.0 in /usr/local/lib/python3.9/dist-packages (from requests[socks]->gdown) (2.0.12)\n",
            "Requirement already satisfied: urllib3<1.27,>=1.21.1 in /usr/local/lib/python3.9/dist-packages (from requests[socks]->gdown) (1.26.15)\n",
            "Requirement already satisfied: certifi>=2017.4.17 in /usr/local/lib/python3.9/dist-packages (from requests[socks]->gdown) (2022.12.7)\n",
            "Requirement already satisfied: idna<4,>=2.5 in /usr/local/lib/python3.9/dist-packages (from requests[socks]->gdown) (3.4)\n",
            "Requirement already satisfied: PySocks!=1.5.7,>=1.5.6 in /usr/local/lib/python3.9/dist-packages (from requests[socks]->gdown) (1.7.1)\n",
            "/usr/local/lib/python3.9/dist-packages/gdown/cli.py:121: FutureWarning: Option `--id` was deprecated in version 4.3.1 and will be removed in 5.0. You don't need to pass it anymore to use a file ID.\n",
            "  warnings.warn(\n",
            "Downloading...\n",
            "From: https://drive.google.com/uc?id=12Jv1GpSBRCItwxP8LXBXDhOAow609IUP\n",
            "To: /content/sentiment_sentences.csv\n",
            "100% 735/735 [00:00<00:00, 1.19MB/s]\n"
          ]
        }
      ]
    },
    {
      "cell_type": "markdown",
      "metadata": {
        "id": "FE8B9-L8U0aZ"
      },
      "source": [
        "## About this lab\n",
        "\n",
        "In this notebook, we are going to build state-of-the art models for text classification using the example of sentiment analysis. To be more precise, we will build a feed-forward neural network (FFNN) and a convolutional neural network (CNN). We will look into the details of data preparation, functioning of each model and how the performance of those NNs could be measured efficiently. We will start our work using a toy corpus. Further you can extend your knowledge and use a larger dataset. Again we are using [pytorch](https://www.pytorch.org), an open source deep learning platform, as our backbone library in the course.\n",
        "\n",
        "Goal of this lab :\n",
        "* Preprocess some Text Dataset\n",
        "* Train models for NLP"
      ]
    },
    {
      "cell_type": "markdown",
      "source": [
        "## Toying Around "
      ],
      "metadata": {
        "id": "4Cf3akNtd-mp"
      }
    },
    {
      "cell_type": "markdown",
      "source": [
        "\n",
        "First, we present to you our toy dataset, composed of a toy training and validation sets. It is good practise to use the validation set (a representative set of the test data). This set is used to tune hyperparameters and choose a configuration for your model to ensure the best performance. Our toy sets are already tokenized and lowercased.\n",
        "\n",
        "* What is 1 ? What is 0 ?"
      ],
      "metadata": {
        "id": "rF2y5G4Ydz4t"
      }
    },
    {
      "cell_type": "code",
      "metadata": {
        "id": "abMSnMwJx8bu"
      },
      "source": [
        " # Our toy sentiment analysis corpus\n",
        "train = ['i like his new book !',\n",
        "         'what a well-written novel !',\n",
        "         'i do not agree with the criticism on this short story',\n",
        "         'well done ! it was an enjoyable stage play',\n",
        "         'it was very good . send me a copy please .',\n",
        "         'the argumentation in the study is very weak',\n",
        "         'poor effort !',\n",
        "         'the descriptions could have been more detailed',\n",
        "         'i am not impressed',\n",
        "         'could have done better .',\n",
        "]\n",
        "\n",
        "train_labels = [1, 1, 1, 1, 1, 0, 0, 0, 0, 0]\n",
        "\n",
        "# Validation set\n",
        "valid = ['i like your play', \n",
        "         'i agree with your study', \n",
        "         'what a success ! a well-written novel', \n",
        "         'not enough details . very poor', \n",
        "         'i support the criticism',\n",
        "         'could be better',\n",
        "]\n",
        "\n",
        "valid_labels = [1, 1, 1, 0, 0, 0]"
      ],
      "execution_count": null,
      "outputs": []
    },
    {
      "cell_type": "markdown",
      "metadata": {
        "id": "0hPlpqVFYpfL"
      },
      "source": [
        "### Pre-processing\n",
        "\n",
        "* Using simple list operators, fill in the below function '...' to **tokenize the corpus.** \n",
        "\n",
        "Hint : a Token could correspond to a word, punctuation..."
      ]
    },
    {
      "cell_type": "code",
      "metadata": {
        "id": "UQ5IL1e1GVn6"
      },
      "source": [
        "def get_tokenized_corpus(corpus):\n",
        "  tokenized_corpus = []\n",
        "\n",
        "  #######################\n",
        "  # Q: Process the corpus\n",
        "  #######################\n",
        "  for sentence in corpus:\n",
        "    tokenized_sentence = []\n",
        "    for token in sentence.split(' '): \n",
        "      tokenized_sentence.append(token)\n",
        "    tokenized_corpus.append(tokenized_sentence)\n",
        " \n",
        "  return tokenized_corpus"
      ],
      "execution_count": null,
      "outputs": []
    },
    {
      "cell_type": "markdown",
      "metadata": {
        "id": "cyKCfY6QbO0r"
      },
      "source": [
        "### Word2index dictionary\n",
        "\n",
        "In order to easily retrieve each word in the vocabulary, we define here a method that returns a word to index dictionary. \n",
        "\n",
        "**Note** : we reserve the 0 index for the padding token `<pad>`."
      ]
    },
    {
      "cell_type": "code",
      "metadata": {
        "id": "9bWQ3zKYKlQU"
      },
      "source": [
        "def get_word2idx(tokenized_corpus):\n",
        "  vocabulary = []\n",
        "  for sentence in tokenized_corpus:\n",
        "    for token in sentence:\n",
        "        if token not in vocabulary:\n",
        "            vocabulary.append(token)\n",
        "  \n",
        "  word2idx = {w: idx+1 for (idx, w) in enumerate(vocabulary)}\n",
        "  # we reserve the 0 index for the padding token\n",
        "  word2idx['<pad>'] = 0\n",
        "  \n",
        " \n",
        "  return word2idx"
      ],
      "execution_count": null,
      "outputs": []
    },
    {
      "cell_type": "markdown",
      "metadata": {
        "id": "Hve1MProNBvp"
      },
      "source": [
        "### Preparation of the inputs\n",
        "\n",
        "We will first train a FFN (Feed Forward Network). The first layer of our FFN will be an embedding (look-up) layer which takes as input indexes of tokens (we do not need to one-hot encode our vectors).\n",
        "\n",
        "---\n",
        "\n",
        "**Q: Why do we need to fix the length of our input vectors (we take the maximum sentence length here) ? This process is referred to as padding. Print the padded training corpus.**"
      ]
    },
    {
      "cell_type": "code",
      "metadata": {
        "id": "J-xp_gKvObfw",
        "colab": {
          "base_uri": "https://localhost:8080/"
        },
        "outputId": "b5a7470b-4904-4826-82aa-e69a33581edb"
      },
      "source": [
        "def get_model_inputs(tokenized_corpus, word2idx, labels):\n",
        "  # we index our sentences\n",
        "  vectorized_sents = [[word2idx[tok] for tok in sent if tok in word2idx] for sent in tokenized_corpus]\n",
        "\n",
        "  # Sentence lengths\n",
        "  sent_lengths = [len(sent) for sent in vectorized_sents]\n",
        "\n",
        "  # TODO : Get maximum length\n",
        "  max_len = max(sent_lengths)\n",
        "  \n",
        "  # we create a tensor of a fixed size filled with zeroes for padding\n",
        "  sent_tensor = torch.zeros((len(vectorized_sents), max_len)).long()\n",
        "\n",
        "  # we fill it with our vectorized sentences \n",
        "  for idx, (sent, sentlen) in enumerate(zip(vectorized_sents, sent_lengths)):\n",
        "    sent_tensor[idx, :sentlen] = torch.LongTensor(sent)\n",
        "\n",
        "  # TODO : Label tensor\n",
        "  label_tensor = torch.FloatTensor(labels)\n",
        "  \n",
        "  return sent_tensor, label_tensor\n",
        "\n",
        "### TODO : Test your functions\n",
        "\n",
        "tokenized_corpus = get_tokenized_corpus(train)\n",
        "word2idx = get_word2idx(tokenized_corpus)\n",
        "train_sent_tensor, train_label_tensor = get_model_inputs(tokenized_corpus, word2idx, train_labels)\n",
        "\n",
        "print (train_sent_tensor)\n",
        "print (train_label_tensor)"
      ],
      "execution_count": null,
      "outputs": [
        {
          "output_type": "stream",
          "name": "stdout",
          "text": [
            "tensor([[ 1,  2,  3,  4,  5,  6,  0,  0,  0,  0,  0],\n",
            "        [ 7,  8,  9, 10,  6,  0,  0,  0,  0,  0,  0],\n",
            "        [ 1, 11, 12, 13, 14, 15, 16, 17, 18, 19, 20],\n",
            "        [21, 22,  6, 23, 24, 25, 26, 27, 28,  0,  0],\n",
            "        [23, 24, 29, 30, 31, 32, 33,  8, 34, 35, 31],\n",
            "        [15, 36, 37, 15, 38, 39, 29, 40,  0,  0,  0],\n",
            "        [41, 42,  6,  0,  0,  0,  0,  0,  0,  0,  0],\n",
            "        [15, 43, 44, 45, 46, 47, 48,  0,  0,  0,  0],\n",
            "        [ 1, 49, 12, 50,  0,  0,  0,  0,  0,  0,  0],\n",
            "        [44, 45, 22, 51, 31,  0,  0,  0,  0,  0,  0]])\n",
            "tensor([1., 1., 1., 1., 1., 0., 0., 0., 0., 0.])\n"
          ]
        }
      ]
    },
    {
      "cell_type": "markdown",
      "source": [
        "### Data visualization \n"
      ],
      "metadata": {
        "id": "JAUpE-Yag74O"
      }
    },
    {
      "cell_type": "markdown",
      "source": [
        "#### Existing CSV File\n",
        "\n",
        "* Go to your workspace by clicking on the folder icon on the left of your notebook and click on the sentimen_sentences.csv file\n",
        "\n",
        "*texte en italique*Every sentence is labeled either positive, or negative\n",
        "\n",
        "\n",
        "* What do you see ? Explain the Dataset\n",
        "\n",
        "*In the labels the ones correspond to positives and the zero's correspond to negatives.*\n",
        "\n",
        "In order to have insight about what embeddings look like, use https://huggingface.co/spaces/mohitmayank/sentenceviz with the sentiment_sentences CSV file available on the github or in your google colab workspace. You just have to download it and load it in the website to vizualise your embeddings.\n",
        "\n",
        "![TP2_AI.png](data:image/png;base64,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)\n",
        "\n",
        "---\n",
        "\n",
        "**Q:** \n",
        "* **What changes can you see between the different embeddings visualization techniques ?**\n",
        "* **What can you infer from these differences ?**"
      ],
      "metadata": {
        "id": "ZCtqBHwFf-7y"
      }
    },
    {
      "cell_type": "markdown",
      "source": [
        "#### Creating our own corpus\n",
        "\n",
        "Now you can try to visualize embeddings of our corpus using the csv module to convert the list of word into a CSV file matching the one you already used. \n",
        "\n",
        "* Create a CSV File based on our corpus and perform the same data visualization\n",
        "---\n",
        "\n",
        "**Q: What differences do you notice ?**"
      ],
      "metadata": {
        "id": "86iDk7yJyskB"
      }
    },
    {
      "cell_type": "code",
      "source": [
        "# define the name of the CSV file\n",
        "filename = \"corpus_sentences.csv\"\n",
        "\n",
        "# open the CSV file in write mode\n",
        "with open(filename, 'w', newline='') as file:\n",
        "\n",
        "    # create a CSV writer object\n",
        "    \n",
        "    writer = csv.writer(file)\n",
        "    writer.writerow(['text'])\n",
        "    # write in the CSV file\n",
        "    for sentence in tokenized_corpus:\n",
        "        \n",
        "        writer.writerow([sentence]) # Hint : https://docs.python.org/3/library/csv.html\n"
      ],
      "metadata": {
        "id": "IfTE6XDvz2_k"
      },
      "execution_count": null,
      "outputs": []
    },
    {
      "cell_type": "markdown",
      "source": [
        "Here's the plot of 'Corpus_sentences.csv'\n",
        "\n",
        "\n",
        "![TP2_AI_2.png](data:image/png;base64,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)"
      ],
      "metadata": {
        "id": "NhgV0vZthSxc"
      }
    },
    {
      "cell_type": "markdown",
      "metadata": {
        "id": "xGg6CtALe8Va"
      },
      "source": [
        "## Model 1 : the Feed-Forward Network\n",
        "\n",
        "We will start by building a very simple feed-forward neural network (FFNN).\n",
        "Our FFNN class is a sub-class of `nn.Module`. Within the `__init__` method, we define the layers of the module:\n",
        "\n",
        "- Our first layer is an embedding layer (look-up layer). This layer could be initialized with pre-trained embeddings (as we will see at the end of this lab) or could be trained together with other layers.\n",
        " \n",
        "- The next layer is a fully connected layer followed by a ReLU activation.\n",
        "\n",
        "- Finally, the last linear layer is the output layer for the classification task.\n",
        "\n",
        "The `forward()` method is called when we feed data into our model. Please note that the output dimension of each layer is the input dimension for the next one.\n",
        "\n",
        "---\n",
        "\n",
        "\n",
        "**Q: Implement the averaging of embeddings in the `forward()` method of the class below.**\n"
      ]
    },
    {
      "cell_type": "code",
      "metadata": {
        "id": "4LWut1gtXGQN"
      },
      "source": [
        "class FFNN(nn.Module):\n",
        "    def __init__(self, embedding_dim, hidden_dim, vocab_size, num_classes):  \n",
        "        super(FFNN, self).__init__()\n",
        "        \n",
        "        # embedding (lookup layer) layer\n",
        "        # padding_idx argument makes sure that the 0-th token in the vocabulary\n",
        "        # is used for padding purposes i.e. its embedding will be a 0-vector\n",
        "        self.embedding = nn.Embedding(vocab_size, embedding_dim, padding_idx=0)\n",
        "        \n",
        "        # hidden layer\n",
        "        # TODO : What is the input size of the first Linear Layer\n",
        "        self.fc1 = nn.Linear(embedding_dim, hidden_dim)\n",
        "        \n",
        "        # activation\n",
        "        self.relu1 = nn.ReLU()\n",
        "        \n",
        "        # output layer\n",
        "        # TODO : What is the output size of the last Linear Layer\n",
        "\n",
        "        self.fc2 = nn.Linear(hidden_dim,num_classes)  \n",
        "    \n",
        "    def forward(self, x):\n",
        "        # x has shape (batch_size, max_sent_len)\n",
        "\n",
        "        print(self.embedding.weight.shape)\n",
        "        print(x.shape)\n",
        "        embedded = self.embedding(x)\n",
        "        # `embedding` has shape (batch size, max_sent_len, embedding dim)\n",
        "\n",
        "        ########################################################################\n",
        "        # Q: Compute the average embeddings of shape (batch_size, embedding_dim)\n",
        "        ########################################################################\n",
        "        # Implement averaging that ignores padding (average using actual sentence lengths).\n",
        "        # How this effect the result?\n",
        "        \n",
        "        sent_lens = torch.sum(x != 0, dim = 1)\n",
        "        summed= torch.sum(embedded, dim = 1)  #/ sent_lens.squeeze(1)\n",
        "        averaged = torch.div(summed ,sent_lens.view(-1,1).float())\n",
        "\n",
        "        out = self.fc1(averaged)\n",
        "        out = self.relu1(out)\n",
        "        out = self.fc2(out)\n",
        "        return out"
      ],
      "execution_count": null,
      "outputs": []
    },
    {
      "cell_type": "markdown",
      "metadata": {
        "id": "PcAI5BtaQMFh"
      },
      "source": [
        "### Training the model\n",
        "\n",
        "In this section, we will define the hyperparameters of our model, the loss function, the optimizer and perform a number of training epochs over our toy training corpus.\n",
        "\n",
        "We will use the **Stochastic gradient descent (SGD)** optimizer. The learning rate hyperparameter of the optimizer controls how the weights are adjusted with respect to the loss gradient. The lower the value, the more fine-grained are weight updates.\n",
        "\n",
        "**Note that** it is a common practise to perform training using mini-batches (sets of training instances seen by the model during weight update step). In this case, the epoch loss is defined as the loss averaged across the mini-batches. Since our corpus is very small, we train on the whole training set without batching.\n",
        "\n",
        "---\n",
        "\n",
        "**Q: Why is the number of output classes is equal to 1 for binary classification?**\n",
        "\n",
        "\n",
        "**Q: Try to modify the learning rate (which is initially set to 0.5 below) in the range $[0.0001, 0.5]$. How does the loss react to these changes?**"
      ]
    },
    {
      "cell_type": "code",
      "metadata": {
        "id": "wrtOwTUsyArb",
        "colab": {
          "base_uri": "https://localhost:8080/"
        },
        "outputId": "8933374e-77ca-4424-be1d-0599fb4375b5"
      },
      "source": [
        "# we will train for N epochs (The model will see the corpus N times)\n",
        "EPOCHS = 10\n",
        "\n",
        "# Learning rate is initially set to 0.5\n",
        "LRATE = 0.5\n",
        "\n",
        "# we define our embedding dimension (dimensionality of the output of the first layer)\n",
        "EMBEDDING_DIM = 50\n",
        "\n",
        "# dimensionality of the output of the second hidden layer\n",
        "HIDDEN_DIM = 50\n",
        "\n",
        "# the output dimension is the number of classes, 1 for binary classification\n",
        "# TODO : What is the number of classes. Hint : What task are we performing ?\n",
        "OUTPUT_DIM = 1\n",
        "\n",
        "# Construct the model\n",
        "model = FFNN(EMBEDDING_DIM, HIDDEN_DIM, len(word2idx), OUTPUT_DIM)\n",
        "\n",
        "# Print the model\n",
        "print(model)\n",
        "\n",
        "# TODO : initialize your optimizer, we use the stochastic gradient descent (SGD) optimizer\n",
        "optimizer = torch.optim.SGD( model.parameters() , LRATE)\n",
        "\n",
        "# we use the binary cross-entropy loss with sigmoid (applied to logits) \n",
        "# Recall that we did not apply any activation to our output layer, hence we need\n",
        "# to make our outputs look like probabilities.\n",
        "loss_fn = nn.BCEWithLogitsLoss()\n",
        "\n",
        "# Input and label tensors\n",
        "feature = train_sent_tensor\n",
        "target = train_label_tensor\n",
        "\n",
        "################\n",
        "# Start training\n",
        "################\n",
        "\n",
        "# to ensure the dropout (explained later) is \"turned on\" while training\n",
        "# good practice to include even if do not use here\n",
        "model.train()\n",
        "\n",
        "print(f'Will train for {EPOCHS} epochs')\n",
        "for epoch in range(1, EPOCHS + 1):\n",
        "  # we zero the gradients as they are not removed automatically\n",
        "  optimizer.zero_grad()\n",
        "  \n",
        "  # TODO : Send the data to your model\n",
        "  # squeeze is needed as the predictions will have the shape (batch size, 1)\n",
        "  # and we need to remove the dimension of size 1\n",
        "  predictions = model(feature).squeeze(1)\n",
        "\n",
        "  # TODO : Compute the loss between the predictions and the targets\n",
        "  loss = loss_fn(predictions, target.float())\n",
        "  train_loss = loss.item()\n",
        "\n",
        "  # calculate the gradient of each parameter\n",
        "  loss.backward()\n",
        "\n",
        "  # update the parameters using the gradients and optimizer algorithm \n",
        "  optimizer.step()\n",
        "  \n",
        "  print(f'| Epoch: {epoch:02} | Train Loss: {train_loss:.3f}')"
      ],
      "execution_count": null,
      "outputs": [
        {
          "output_type": "stream",
          "name": "stdout",
          "text": [
            "FFNN(\n",
            "  (embedding): Embedding(52, 50, padding_idx=0)\n",
            "  (fc1): Linear(in_features=50, out_features=50, bias=True)\n",
            "  (relu1): ReLU()\n",
            "  (fc2): Linear(in_features=50, out_features=1, bias=True)\n",
            ")\n",
            "Will train for 10 epochs\n",
            "torch.Size([52, 50])\n",
            "torch.Size([10, 11])\n",
            "| Epoch: 01 | Train Loss: 0.689\n",
            "torch.Size([52, 50])\n",
            "torch.Size([10, 11])\n",
            "| Epoch: 02 | Train Loss: 0.662\n",
            "torch.Size([52, 50])\n",
            "torch.Size([10, 11])\n",
            "| Epoch: 03 | Train Loss: 0.636\n",
            "torch.Size([52, 50])\n",
            "torch.Size([10, 11])\n",
            "| Epoch: 04 | Train Loss: 0.608\n",
            "torch.Size([52, 50])\n",
            "torch.Size([10, 11])\n",
            "| Epoch: 05 | Train Loss: 0.579\n",
            "torch.Size([52, 50])\n",
            "torch.Size([10, 11])\n",
            "| Epoch: 06 | Train Loss: 0.547\n",
            "torch.Size([52, 50])\n",
            "torch.Size([10, 11])\n",
            "| Epoch: 07 | Train Loss: 0.512\n",
            "torch.Size([52, 50])\n",
            "torch.Size([10, 11])\n",
            "| Epoch: 08 | Train Loss: 0.475\n",
            "torch.Size([52, 50])\n",
            "torch.Size([10, 11])\n",
            "| Epoch: 09 | Train Loss: 0.437\n",
            "torch.Size([52, 50])\n",
            "torch.Size([10, 11])\n",
            "| Epoch: 10 | Train Loss: 0.397\n"
          ]
        }
      ]
    },
    {
      "cell_type": "markdown",
      "metadata": {
        "id": "nwY-k6x0xIkl"
      },
      "source": [
        "### Measuring the accuracy\n",
        "\n",
        "In addition to measuring the loss, we can also evaluate the actual classification performance of our model. (In the case of training with mini-batches, the epoch accuracy is defined as the accuracy averaged across the mini-batches.)\n",
        "\n",
        "---\n",
        "\n",
        "**Q: Fill in the below function so that it computes the accuracy of the model. Once you are done, improve the loop so that it also prints the training accuracy after each epoch.**"
      ]
    },
    {
      "cell_type": "code",
      "metadata": {
        "id": "0R23R0XjuPTn"
      },
      "source": [
        "def accuracy(output, target):\n",
        "  #####################################\n",
        "  # Q: Return the accuracy of the model\n",
        "  #####################################\n",
        "  \n",
        "  output = torch.round(torch.sigmoid(output))\n",
        "  correct = (output == target).float()\n",
        "  acc = correct.mean()\n",
        "  #acc = (target - output).sum().item() / target.size(0)\n",
        "  \n",
        "  return acc"
      ],
      "execution_count": null,
      "outputs": []
    },
    {
      "cell_type": "code",
      "metadata": {
        "id": "9eP2s5MyyrNO",
        "colab": {
          "base_uri": "https://localhost:8080/"
        },
        "outputId": "bdb2bd55-e213-467f-8d74-8ceba592c1d7"
      },
      "source": [
        "# we will train for N epochs (The model will see the corpus N times)\n",
        "EPOCHS = 10\n",
        "\n",
        "# Learning rate is initially set to 0.5\n",
        "LRATE = 0.5\n",
        "\n",
        "# we define our embedding dimension (dimensionality of the output of the first layer)\n",
        "EMBEDDING_DIM = 50\n",
        "\n",
        "# dimensionality of the output of the second hidden layer\n",
        "HIDDEN_DIM = 50\n",
        "\n",
        "# the output dimension is the number of classes, 1 for binary classification\n",
        "OUTPUT_DIM = 1\n",
        "\n",
        "# Construct the model\n",
        "model = FFNN(EMBEDDING_DIM, HIDDEN_DIM, len(word2idx), OUTPUT_DIM)\n",
        "\n",
        "# Print the model\n",
        "print(model)\n",
        "\n",
        "# we use the stochastic gradient descent (SGD) optimizer\n",
        "optimizer = optim.SGD(model.parameters(), lr=LRATE)\n",
        "\n",
        "# we use the binary cross-entropy loss with sigmoid (applied to logits) \n",
        "# Recall that we did not apply any activation to our output layer, hence we need\n",
        "# to make our outputs look like probabilities.\n",
        "loss_fn = nn.BCEWithLogitsLoss()\n",
        "\n",
        "# Input and label tensors\n",
        "feature = train_sent_tensor\n",
        "target = train_label_tensor\n",
        "\n",
        "# to ensure the dropout (explained later) is \"turned on\" while training\n",
        "# good practice to include even if do not use here\n",
        "model.train()\n",
        "\n",
        "################\n",
        "# Start training\n",
        "################\n",
        "print(f'Will train for {EPOCHS} epochs')\n",
        "for epoch in range(1, EPOCHS + 1):\n",
        "  # we zero the gradients as they are not removed automatically\n",
        "  optimizer.zero_grad()\n",
        "  \n",
        "  # squeeze is needed as the predictions will have the shape (batch size, 1)\n",
        "  # and we need to remove the dimension of size 1\n",
        "  predictions = model(feature).squeeze(1)\n",
        "\n",
        "  # Compute the loss\n",
        "  loss = loss_fn(predictions, target)\n",
        "  train_loss = loss.item()\n",
        "  \n",
        "  #####################\n",
        "  # Q: Compute accuracy\n",
        "  #####################\n",
        "  train_acc = accuracy(predictions , target)\n",
        "\n",
        "  # calculate the gradient of each parameter\n",
        "  loss.backward()\n",
        "\n",
        "  # update the parameters using the gradients and optimizer algorithm \n",
        "  optimizer.step()\n",
        "\n",
        "  print(f'| Epoch: {epoch:02} | Train Loss: {train_loss:.3f} | Train Acc: {train_acc*100:.2f}%')"
      ],
      "execution_count": null,
      "outputs": [
        {
          "output_type": "stream",
          "name": "stdout",
          "text": [
            "FFNN(\n",
            "  (embedding): Embedding(52, 50, padding_idx=0)\n",
            "  (fc1): Linear(in_features=50, out_features=50, bias=True)\n",
            "  (relu1): ReLU()\n",
            "  (fc2): Linear(in_features=50, out_features=1, bias=True)\n",
            ")\n",
            "Will train for 10 epochs\n",
            "torch.Size([52, 50])\n",
            "torch.Size([10, 11])\n",
            "| Epoch: 01 | Train Loss: 0.703 | Train Acc: 50.00%\n",
            "torch.Size([52, 50])\n",
            "torch.Size([10, 11])\n",
            "| Epoch: 02 | Train Loss: 0.675 | Train Acc: 70.00%\n",
            "torch.Size([52, 50])\n",
            "torch.Size([10, 11])\n",
            "| Epoch: 03 | Train Loss: 0.649 | Train Acc: 90.00%\n",
            "torch.Size([52, 50])\n",
            "torch.Size([10, 11])\n",
            "| Epoch: 04 | Train Loss: 0.622 | Train Acc: 100.00%\n",
            "torch.Size([52, 50])\n",
            "torch.Size([10, 11])\n",
            "| Epoch: 05 | Train Loss: 0.592 | Train Acc: 100.00%\n",
            "torch.Size([52, 50])\n",
            "torch.Size([10, 11])\n",
            "| Epoch: 06 | Train Loss: 0.558 | Train Acc: 100.00%\n",
            "torch.Size([52, 50])\n",
            "torch.Size([10, 11])\n",
            "| Epoch: 07 | Train Loss: 0.516 | Train Acc: 100.00%\n",
            "torch.Size([52, 50])\n",
            "torch.Size([10, 11])\n",
            "| Epoch: 08 | Train Loss: 0.468 | Train Acc: 100.00%\n",
            "torch.Size([52, 50])\n",
            "torch.Size([10, 11])\n",
            "| Epoch: 09 | Train Loss: 0.416 | Train Acc: 100.00%\n",
            "torch.Size([52, 50])\n",
            "torch.Size([10, 11])\n",
            "| Epoch: 10 | Train Loss: 0.363 | Train Acc: 100.00%\n"
          ]
        }
      ]
    },
    {
      "cell_type": "markdown",
      "metadata": {
        "id": "C2UhMGlMq3Re"
      },
      "source": [
        "### Hyperparameter tuning on the validation set\n",
        "\n",
        "You should now apply the previous pre-processing and input preparation procedures to the validation set as well.\n",
        "\n",
        "---\n",
        "\n",
        "**Q:** \n",
        "* **Should we re-use the word to index dictionary we created before?**\n",
        "* **Why?**\n",
        " "
      ]
    },
    {
      "cell_type": "code",
      "metadata": {
        "id": "i9_FERooxUQR",
        "colab": {
          "base_uri": "https://localhost:8080/"
        },
        "outputId": "9050eb05-d58a-4e83-ce6e-2b791a89cfc8"
      },
      "source": [
        "###############################################\n",
        "# Q: Prepare the validation corpus and labels #\n",
        "### TODO : Test your functions\n",
        "\n",
        "tokenized_corpus = get_tokenized_corpus(valid)\n",
        "word2idx = get_word2idx(tokenized_corpus)\n",
        "valid_sent_tensor, valid_label_tensor = get_model_inputs(tokenized_corpus, word2idx, valid_labels)\n",
        "\n",
        "\n",
        "###############################################\n",
        "print(valid_sent_tensor)"
      ],
      "execution_count": null,
      "outputs": [
        {
          "output_type": "stream",
          "name": "stdout",
          "text": [
            "tensor([[ 1,  2,  3,  4,  0,  0,  0],\n",
            "        [ 1,  5,  6,  3,  7,  0,  0],\n",
            "        [ 8,  9, 10, 11,  9, 12, 13],\n",
            "        [14, 15, 16, 17, 18, 19,  0],\n",
            "        [ 1, 20, 21, 22,  0,  0,  0],\n",
            "        [23, 24, 25,  0,  0,  0,  0]])\n"
          ]
        }
      ]
    },
    {
      "cell_type": "markdown",
      "metadata": {
        "id": "WUlXfydh1Uxv"
      },
      "source": [
        "**Q: Try to modify the learning rate and the number of epochs now. How will the validation loss and accuracy react to those changes?**"
      ]
    },
    {
      "cell_type": "code",
      "metadata": {
        "id": "rcKPET9BHb-7",
        "colab": {
          "base_uri": "https://localhost:8080/",
          "height": 1000
        },
        "outputId": "1d9f2d74-562f-4820-d4e6-fab31edc87d1"
      },
      "source": [
        "# we will train for N epochs (The model will see the corpus N times)\n",
        "EPOCHS = 10\n",
        "\n",
        "# Learning rate is initially set to 0.5\n",
        "LRATE = 0.1\n",
        "\n",
        "# we define our embedding dimension (dimensionality of the output of the first layer)\n",
        "EMBEDDING_DIM = 50\n",
        "\n",
        "# dimensionality of the output of the second hidden layer\n",
        "HIDDEN_DIM = 50\n",
        "\n",
        "# the output dimension is the number of classes, 1 for binary classification\n",
        "OUTPUT_DIM = 1\n",
        "\n",
        "# Construct the model\n",
        "model = FFNN(EMBEDDING_DIM, HIDDEN_DIM, len(word2idx), OUTPUT_DIM)\n",
        "\n",
        "# we use the stochastic gradient descent (SGD) optimizer\n",
        "optimizer = optim.SGD(model.parameters(), lr=LRATE)\n",
        "\n",
        "# we use the binary cross-entropy loss with sigmoid (applied to logits) \n",
        "# Recall that we did not apply any activation to our output layer, hence we need\n",
        "# to make our outputs look like probabilities.\n",
        "loss_fn = nn.BCEWithLogitsLoss()\n",
        "\n",
        "# Input and label tensors for training\n",
        "feature_train = train_sent_tensor\n",
        "target_train = train_label_tensor\n",
        "#print(feature_train)\n",
        "# Input and label tensors for validation\n",
        "feature_valid = valid_sent_tensor\n",
        "target_valid = valid_label_tensor\n",
        "\n",
        "# to ensure the dropout (explained later) is \"turned on\" while training\n",
        "# good practice to include even if do not use here\n",
        "model.train()\n",
        "################\n",
        "# Start training\n",
        "################\n",
        "\n",
        "training = []\n",
        "validation = []\n",
        "print(f'Will train for {EPOCHS} epochs')\n",
        "for epoch in range(1, EPOCHS + 1):  \n",
        "  # we zero the gradients as they are not removed automatically\n",
        "  optimizer.zero_grad()\n",
        "  \n",
        "  # squeeze is needed as the predictions will have the shape (batch size, 1)\n",
        "  # and we need to remove the dimension of size 1\n",
        "  #print(feature_train.shape)\n",
        "  predictions = model(train_sent_tensor).squeeze(1)\n",
        "\n",
        "  # Compute the loss\n",
        "  loss = loss_fn(predictions, target_train)\n",
        "  train_loss = loss.item()\n",
        "\n",
        "  # Compute training accuracy\n",
        "  train_acc = accuracy(predictions, target_train)\n",
        "\n",
        "  # calculate the gradient of each parameter\n",
        "  loss.backward()\n",
        "\n",
        "  # update the parameters using the gradients and optimizer algorithm \n",
        "  optimizer.step()\n",
        "  \n",
        "  # this puts the model in \"evaluation mode\" (turns off dropout and batch normalization)\n",
        "  # good practise to include even if we do not use them right now\n",
        "  model.eval()\n",
        "\n",
        "  # we do not compute gradients within this block, i.e. no training\n",
        "  with torch.no_grad():\n",
        "    predictions_valid = model(feature_valid).squeeze(1)\n",
        "    valid_loss = loss_fn(predictions_valid, target_valid).item()\n",
        "    valid_acc = accuracy(predictions_valid, target_valid)\n",
        "  training.append(train_loss)\n",
        "  validation.append(valid_loss)\n",
        "  print(f'| Epoch: {epoch:02} | Train Loss: {train_loss:.3f} | Train Acc: {train_acc*100:6.2f}% | Val. Loss: {valid_loss:.3f} | Val. Acc: {valid_acc*100:6.2f}% |')\n",
        "\n",
        "  from matplotlib import pyplot as plt\n",
        "plt.title('Loss')\n",
        "plt.plot(training,label='training')\n",
        "plt.plot(validation,label='validation')\n",
        "plt.legend()"
      ],
      "execution_count": null,
      "outputs": [
        {
          "output_type": "stream",
          "name": "stdout",
          "text": [
            "Will train for 10 epochs\n",
            "torch.Size([52, 50])\n",
            "torch.Size([10, 11])\n",
            "torch.Size([52, 50])\n",
            "torch.Size([6, 7])\n",
            "| Epoch: 01 | Train Loss: 0.691 | Train Acc:  30.00% | Val. Loss: 0.672 | Val. Acc:  66.67% |\n",
            "torch.Size([52, 50])\n",
            "torch.Size([10, 11])\n",
            "torch.Size([52, 50])\n",
            "torch.Size([6, 7])\n",
            "| Epoch: 02 | Train Loss: 0.685 | Train Acc:  40.00% | Val. Loss: 0.670 | Val. Acc:  66.67% |\n",
            "torch.Size([52, 50])\n",
            "torch.Size([10, 11])\n",
            "torch.Size([52, 50])\n",
            "torch.Size([6, 7])\n",
            "| Epoch: 03 | Train Loss: 0.679 | Train Acc:  60.00% | Val. Loss: 0.668 | Val. Acc:  66.67% |\n",
            "torch.Size([52, 50])\n",
            "torch.Size([10, 11])\n",
            "torch.Size([52, 50])\n",
            "torch.Size([6, 7])\n",
            "| Epoch: 04 | Train Loss: 0.673 | Train Acc:  60.00% | Val. Loss: 0.665 | Val. Acc:  83.33% |\n",
            "torch.Size([52, 50])\n",
            "torch.Size([10, 11])\n",
            "torch.Size([52, 50])\n",
            "torch.Size([6, 7])\n",
            "| Epoch: 05 | Train Loss: 0.668 | Train Acc:  80.00% | Val. Loss: 0.663 | Val. Acc:  83.33% |\n",
            "torch.Size([52, 50])\n",
            "torch.Size([10, 11])\n",
            "torch.Size([52, 50])\n",
            "torch.Size([6, 7])\n",
            "| Epoch: 06 | Train Loss: 0.662 | Train Acc:  80.00% | Val. Loss: 0.661 | Val. Acc:  83.33% |\n",
            "torch.Size([52, 50])\n",
            "torch.Size([10, 11])\n",
            "torch.Size([52, 50])\n",
            "torch.Size([6, 7])\n",
            "| Epoch: 07 | Train Loss: 0.656 | Train Acc:  80.00% | Val. Loss: 0.659 | Val. Acc:  83.33% |\n",
            "torch.Size([52, 50])\n",
            "torch.Size([10, 11])\n",
            "torch.Size([52, 50])\n",
            "torch.Size([6, 7])\n",
            "| Epoch: 08 | Train Loss: 0.650 | Train Acc:  90.00% | Val. Loss: 0.657 | Val. Acc:  83.33% |\n",
            "torch.Size([52, 50])\n",
            "torch.Size([10, 11])\n",
            "torch.Size([52, 50])\n",
            "torch.Size([6, 7])\n",
            "| Epoch: 09 | Train Loss: 0.645 | Train Acc:  90.00% | Val. Loss: 0.655 | Val. Acc:  83.33% |\n",
            "torch.Size([52, 50])\n",
            "torch.Size([10, 11])\n",
            "torch.Size([52, 50])\n",
            "torch.Size([6, 7])\n",
            "| Epoch: 10 | Train Loss: 0.639 | Train Acc:  90.00% | Val. Loss: 0.653 | Val. Acc:  83.33% |\n"
          ]
        },
        {
          "output_type": "execute_result",
          "data": {
            "text/plain": [
              "<matplotlib.legend.Legend at 0x7f56a76ede80>"
            ]
          },
          "metadata": {},
          "execution_count": 142
        },
        {
          "output_type": "display_data",
          "data": {
            "text/plain": [
              "<Figure size 432x288 with 1 Axes>"
            ],
            "image/png": "[encoded data removed]"
          },
          "metadata": {
            "needs_background": "light"
          }
        }
      ]
    },
    {
      "cell_type": "markdown",
      "metadata": {
        "id": "npzWXeQATPs4"
      },
      "source": [
        "### Testing the model\n",
        "\n",
        "Now let us test our trained model. We define a small test set below. First, apply the data preparation procedures to this test set as you did for the validation set.\n"
      ]
    },
    {
      "cell_type": "code",
      "metadata": {
        "id": "5Cx2eJi1a8R6",
        "colab": {
          "base_uri": "https://localhost:8080/"
        },
        "outputId": "3818771e-1980-4339-95e2-7dc3ae008047"
      },
      "source": [
        "test = ['i really do not like your short story', \n",
        "        'well done', \n",
        "        'good results for a study !',\n",
        "        'amazing effort', \n",
        "        'your effort is poor !', \n",
        "        'not impressed'   \n",
        "]\n",
        "\n",
        "test_labels = [0, 1, 1, 1, 0, 0]\n",
        "#########################################\n",
        "# Q: Prepare the test corpus and labels #\n",
        "tokenized_corpus = get_tokenized_corpus(valid)\n",
        "word2idx = get_word2idx(tokenized_corpus)\n",
        "test_sent_tensor, test_label_tensor = get_model_inputs(tokenized_corpus, word2idx, test_labels)\n",
        "\n",
        "\n",
        "print(test_sent_tensor)"
      ],
      "execution_count": null,
      "outputs": [
        {
          "output_type": "stream",
          "name": "stdout",
          "text": [
            "tensor([[ 1,  2,  3,  4,  0,  0,  0],\n",
            "        [ 1,  5,  6,  3,  7,  0,  0],\n",
            "        [ 8,  9, 10, 11,  9, 12, 13],\n",
            "        [14, 15, 16, 17, 18, 19,  0],\n",
            "        [ 1, 20, 21, 22,  0,  0,  0],\n",
            "        [23, 24, 25,  0,  0,  0,  0]])\n"
          ]
        }
      ]
    },
    {
      "cell_type": "markdown",
      "metadata": {
        "id": "a0A1Iu-p4FUL"
      },
      "source": [
        "**Q: Fill in the below function for the computation of F-measure. Once done, complete the missing lines in the final evaluation part.**"
      ]
    },
    {
      "cell_type": "code",
      "metadata": {
        "id": "ixhvaYkW_SfX",
        "colab": {
          "base_uri": "https://localhost:8080/"
        },
        "outputId": "fde1bb1c-30c2-4eb4-e699-444302a222a5"
      },
      "source": [
        "def f_measure(output, gold):\n",
        "  ############################################\n",
        "  # Q: Compute precision, recall and f-measure \n",
        "  ############################################\n",
        "  pred = torch.round(torch.sigmoid(output))\n",
        "  pred = pred.detach().cpu().numpy()\n",
        "     \n",
        "  test_pos_preds = np.sum(pred)\n",
        "  test_pos_real = np.sum(gold)\n",
        "    \n",
        "  correct = (np.logical_xor(pred, gold)).astype(int)\n",
        "  correct = np.logical_not(correct)\n",
        "  correct = np.sum(correct)\n",
        "  \n",
        "  precision = correct / test_pos_preds\n",
        "  recall = correct / test_pos_real\n",
        "  \n",
        "  fscore = (2.0 * precision * recall) / (precision + recall)\n",
        "\n",
        "  # Print them\n",
        "  print(f\"     Recall: {recall:.2f}, Precision: {precision:.2f}, F-measure: {fscore:.2f}\")\n",
        "  \n",
        "\n",
        "####\n",
        "\n",
        "model.eval()\n",
        "\n",
        "feature_test = test_sent_tensor\n",
        "target_test = test_label_tensor\n",
        "\n",
        "with torch.no_grad():\n",
        "  ####################################################################\n",
        "  # Q: Get predictions for the test set, compute the loss and accuracy\n",
        "  ####################################################################\n",
        "\n",
        "  predictions = model(feature_test).squeeze(1)\n",
        "  test_loss = loss_fn(predictions, target_test).item()\n",
        "  test_acc = accuracy(predictions, target_test)\n",
        "\n",
        "  # Print\n",
        "  print(f'Test Loss: {test_loss:.3f} | Test Acc: {test_acc*100:.2f}%')\n",
        "  #f_measure(predictions, test_labels)  Recall"
      ],
      "execution_count": null,
      "outputs": [
        {
          "output_type": "stream",
          "name": "stdout",
          "text": [
            "torch.Size([52, 50])\n",
            "torch.Size([6, 7])\n",
            "Test Loss: 0.753 | Test Acc: 50.00%\n"
          ]
        }
      ]
    },
    {
      "cell_type": "markdown",
      "metadata": {
        "id": "ofMn0IjZ3lUr"
      },
      "source": [
        "**Q:  Are the resulting evaluations different ? How do you interpret those differences? Print the predictions.**\n",
        " "
      ]
    },
    {
      "cell_type": "markdown",
      "metadata": {
        "id": "u2znwTJeU3UT"
      },
      "source": [
        "## Model 2 : the Convolutional Neural Network (CNN)\n",
        "\n",
        "We will implement a model inspired by the CNN model as described in [Convolutional Neural Networks for Sentence Classification (Kim, 2014)](https://arxiv.org/abs/1408.5882).\n",
        "\n",
        "Similar to the FFNN model, we start with an embedding layer. We implement the convolutional layer with the help of `nn.Conv2d` and use the ReLU activation after it. The above-mentioned paper, being inspired by the convolution for images, applies a 2-dimensional convolution: a (window size, embedding dimension) filter. It covers `n` sequential words, taking embedding dimensions as the width. We then pass the tensors through a **max pooling layer**.\n",
        "\n",
        "The **max pooling layer** is typically followed by a **dropout** layer. The latter sets a random set of activations in the max-pooling layer to zero. This prevents the network from learning to rely on specific weights and helps to prevent overfitting. Note that the dropout layer is only used during training, and not during test time.\n",
        "\n",
        "---\n",
        "\n",
        "**Q: Study the shapes of outputs coming from convolution and max pooling layers. What is the shape of the max pooling layer output?**"
      ]
    },
    {
      "cell_type": "code",
      "metadata": {
        "id": "NUPETZaOgvgB"
      },
      "source": [
        "class CNN(nn.Module):\n",
        "  def __init__(self, vocab_size, embedding_dim, out_channels, window_size, output_dim, dropout):\n",
        "    super(CNN, self).__init__()\n",
        "    \n",
        "    # Create the embedding layer as usual\n",
        "    self.embedding = nn.Embedding(vocab_size, embedding_dim, padding_idx=0)\n",
        "    \n",
        "    # in_channels -- 1 text channel\n",
        "    # out_channels -- the number of output channels\n",
        "    # kernel_size is (window size x embedding dim)\n",
        "    self.conv = nn.Conv2d(\n",
        "      in_channels=1, out_channels=out_channels,\n",
        "      kernel_size=(window_size, embedding_dim))\n",
        "    \n",
        "    # the dropout layer\n",
        "    self.dropout = nn.Dropout(dropout)\n",
        "\n",
        "    # the output layer\n",
        "    self.fc = nn.Linear(out_channels, output_dim)\n",
        "        \n",
        "  def forward(self, x):\n",
        "    # x -> (batch size, max_sent_length)\n",
        "    \n",
        "    embedded = self.embedding(x)\n",
        "    # embedded -> (batch size, max_sent_length, embedding_dim)\n",
        "    \n",
        "    # images have 3 RGB channels \n",
        "    # for the text we add 1 channel\n",
        "    embedded = embedded.unsqueeze(1)\n",
        "    # embedded -> (batch size, 1, max_sent_length, embedding dim)\n",
        "\n",
        "    # Compute the feature maps      \n",
        "    feature_maps = self.conv(embedded)\n",
        "\n",
        "    ##########################################\n",
        "    # Q: What is the shape of `feature_maps` ?\n",
        "    ##########################################\n",
        "    \n",
        "    feature_maps = feature_maps.squeeze(3)\n",
        "    \n",
        "    ##########################################\n",
        "    # Q: why do we remove 1 dimension here?\n",
        "    ##########################################\n",
        "    \n",
        "    # Apply ReLU\n",
        "    feature_maps = F.relu(feature_maps)\n",
        "    \n",
        "    # Apply the max pooling layer\n",
        "    pooled = F.max_pool1d(feature_maps, feature_maps.shape[2])\n",
        "    \n",
        "    pooled = pooled.squeeze(2)\n",
        "\n",
        "    ####################################\n",
        "    # Q: What is the shape of `pooled` ?\n",
        "    ####################################\n",
        "    \n",
        "    dropped = self.dropout(pooled)\n",
        "    preds = self.fc(dropped)\n",
        "    \n",
        "    return preds"
      ],
      "execution_count": null,
      "outputs": []
    },
    {
      "cell_type": "markdown",
      "metadata": {
        "id": "7UZroMvLtFVv"
      },
      "source": [
        "### Training and testing the CNN\n",
        "\n",
        "Here we will define the CNN-specific hyperparameters and perform the network training and testing. **Note that** the learning rate is initially set to 0.1."
      ]
    },
    {
      "cell_type": "code",
      "metadata": {
        "id": "Lq1lcWbqRwNY",
        "colab": {
          "base_uri": "https://localhost:8080/",
          "height": 524
        },
        "outputId": "f5471410-b571-4660-c678-4654319716f6"
      },
      "source": [
        "fix_seed()\n",
        "\n",
        "EPOCHS = 10\n",
        "LRATE = 0.1\n",
        "\n",
        "EMBEDDING_DIM = 50\n",
        "OUTPUT_DIM = 1\n",
        "\n",
        "# the hyperparameters specific to CNN\n",
        "# we define the number of filters\n",
        "N_OUT_CHANNELS = 100\n",
        "\n",
        "# we define the window size\n",
        "WINDOW_SIZE = 1\n",
        "\n",
        "# we apply the dropout with the probability 0.2\n",
        "DROPOUT = 0.2\n",
        "\n",
        "# Construct the model\n",
        "model = CNN(len(word2idx), EMBEDDING_DIM, N_OUT_CHANNELS, WINDOW_SIZE, OUTPUT_DIM, DROPOUT)\n",
        "\n",
        "optimizer = optim.SGD(model.parameters(), lr=LRATE)\n",
        "loss_fn = nn.BCEWithLogitsLoss()\n",
        "\n",
        "feature_train = train_sent_tensor\n",
        "target_train = train_label_tensor\n",
        "\n",
        "feature_valid = valid_sent_tensor\n",
        "target_valid = valid_label_tensor\n",
        "\n",
        "feature_test = test_sent_tensor\n",
        "target_test = test_label_tensor\n",
        "\n",
        "################\n",
        "# Start training\n",
        "################\n",
        "print(f'Will train for {EPOCHS} epochs')\n",
        "training = []\n",
        "validation = []\n",
        "for epoch in range(1, EPOCHS + 1):\n",
        "  model.train()\n",
        "  \n",
        "  optimizer.zero_grad()\n",
        "\n",
        "  predictions = model(feature_train).squeeze(1)\n",
        "  loss = loss_fn(predictions, target_train)\n",
        "  train_loss = loss.item()\n",
        "  train_acc = accuracy(predictions, target_train)\n",
        "\n",
        "  loss.backward()\n",
        "\n",
        "  optimizer.step()\n",
        "\n",
        "  model.eval()\n",
        "  with torch.no_grad():\n",
        "    predictions_valid = model(feature_valid).squeeze(1)\n",
        "    valid_loss = loss_fn(predictions_valid, target_valid).item()\n",
        "    valid_acc = accuracy(predictions_valid, target_valid)\n",
        "  training.append(train_loss)\n",
        "  validation.append(valid_loss)\n",
        "  print(f'| Epoch: {epoch:02} | Train Loss: {train_loss:.3f} | Train Acc: {train_acc*100:6.2f}% | Val. Loss: {valid_loss:.3f} | Val. Acc: {valid_acc*100:6.2f}% |')\n",
        "\n",
        "\n",
        "## Finally, test on the test set\n",
        "model.eval()\n",
        "\n",
        "with torch.no_grad():\n",
        "    predictions = model(feature_test).squeeze(1)\n",
        "    loss = loss_fn(predictions, target_test)\n",
        "    acc = accuracy(predictions, target_test)\n",
        "    print(f'Test Loss: {loss:.3f} | Test Acc: {acc*100:.2f}%')\n",
        "    f_measure(predictions, test_labels)\n",
        "\n",
        "from matplotlib import pyplot as plt\n",
        "plt.title('Loss')\n",
        "plt.plot(training,label='training')\n",
        "plt.plot(validation,label='validation')\n",
        "plt.legend()"
      ],
      "execution_count": null,
      "outputs": [
        {
          "output_type": "stream",
          "name": "stdout",
          "text": [
            "Will train for 10 epochs\n",
            "| Epoch: 01 | Train Loss: 0.766 | Train Acc:  50.00% | Val. Loss: 0.711 | Val. Acc:  50.00% |\n",
            "| Epoch: 02 | Train Loss: 0.672 | Train Acc:  50.00% | Val. Loss: 0.679 | Val. Acc:  50.00% |\n",
            "| Epoch: 03 | Train Loss: 0.603 | Train Acc:  60.00% | Val. Loss: 0.663 | Val. Acc:  50.00% |\n",
            "| Epoch: 04 | Train Loss: 0.509 | Train Acc:  80.00% | Val. Loss: 0.649 | Val. Acc:  66.67% |\n",
            "| Epoch: 05 | Train Loss: 0.534 | Train Acc:  70.00% | Val. Loss: 0.647 | Val. Acc:  50.00% |\n",
            "| Epoch: 06 | Train Loss: 0.426 | Train Acc: 100.00% | Val. Loss: 0.684 | Val. Acc:  50.00% |\n",
            "| Epoch: 07 | Train Loss: 0.467 | Train Acc:  80.00% | Val. Loss: 0.640 | Val. Acc:  66.67% |\n",
            "| Epoch: 08 | Train Loss: 0.445 | Train Acc: 100.00% | Val. Loss: 0.675 | Val. Acc:  50.00% |\n",
            "| Epoch: 09 | Train Loss: 0.372 | Train Acc:  90.00% | Val. Loss: 0.663 | Val. Acc:  50.00% |\n",
            "| Epoch: 10 | Train Loss: 0.316 | Train Acc: 100.00% | Val. Loss: 0.671 | Val. Acc:  50.00% |\n",
            "Test Loss: 0.680 | Test Acc: 50.00%\n",
            "     Recall: 1.00, Precision: 0.50, F-measure: 0.67\n"
          ]
        },
        {
          "output_type": "execute_result",
          "data": {
            "text/plain": [
              "<matplotlib.legend.Legend at 0x7f56aa2b1850>"
            ]
          },
          "metadata": {},
          "execution_count": 151
        },
        {
          "output_type": "display_data",
          "data": {
            "text/plain": [
              "<Figure size 432x288 with 1 Axes>"
            ],
            "image/png": "[encoded data removed]"
          },
          "metadata": {
            "needs_background": "light"
          }
        }
      ]
    },
    {
      "cell_type": "markdown",
      "metadata": {
        "id": "5si3n_wf-ImU"
      },
      "source": [
        " **Q: Is the performance of CNN different from the performance of FFNN? Output predictions.**\n",
        " \n",
        "**Q: Is padding necessary for CNN inputs? What is the role of the window size?**"
      ]
    },
    {
      "cell_type": "markdown",
      "metadata": {
        "id": "f4VCX4XSqvlu"
      },
      "source": [
        "### Initializing CNN with pre-trained representations\n",
        "\n",
        "The work [Convolutional Neural Networks for Sentence Classification (Kim, 2014)](https://arxiv.org/abs/1408.5882) also investigates the exploitation of pre-trained embeddings and demonstrates the efficiency of using them.\n",
        "\n",
        "First, download the embeddings and unzip them below:"
      ]
    },
    {
      "cell_type": "code",
      "metadata": {
        "id": "PgvTCi68lOGn",
        "colab": {
          "base_uri": "https://localhost:8080/"
        },
        "outputId": "8bcad505-7379-4601-803c-71c3e6238349"
      },
      "source": [
        "!wget http://nlp.stanford.edu/data/glove.6B.zip"
      ],
      "execution_count": null,
      "outputs": [
        {
          "output_type": "stream",
          "name": "stdout",
          "text": [
            "--2023-03-23 10:03:38--  http://nlp.stanford.edu/data/glove.6B.zip\n",
            "Resolving nlp.stanford.edu (nlp.stanford.edu)... 171.64.67.140\n",
            "Connecting to nlp.stanford.edu (nlp.stanford.edu)|171.64.67.140|:80... connected.\n",
            "HTTP request sent, awaiting response... 302 Found\n",
            "Location: https://nlp.stanford.edu/data/glove.6B.zip [following]\n",
            "--2023-03-23 10:03:38--  https://nlp.stanford.edu/data/glove.6B.zip\n",
            "Connecting to nlp.stanford.edu (nlp.stanford.edu)|171.64.67.140|:443... connected.\n",
            "HTTP request sent, awaiting response... 301 Moved Permanently\n",
            "Location: https://downloads.cs.stanford.edu/nlp/data/glove.6B.zip [following]\n",
            "--2023-03-23 10:03:39--  https://downloads.cs.stanford.edu/nlp/data/glove.6B.zip\n",
            "Resolving downloads.cs.stanford.edu (downloads.cs.stanford.edu)... 171.64.64.22\n",
            "Connecting to downloads.cs.stanford.edu (downloads.cs.stanford.edu)|171.64.64.22|:443... connected.\n",
            "HTTP request sent, awaiting response... 200 OK\n",
            "Length: 862182613 (822M) [application/zip]\n",
            "Saving to: ‘glove.6B.zip’\n",
            "\n",
            "glove.6B.zip        100%[===================>] 822.24M  5.12MB/s    in 2m 40s  \n",
            "\n",
            "2023-03-23 10:06:19 (5.15 MB/s) - ‘glove.6B.zip’ saved [862182613/862182613]\n",
            "\n"
          ]
        }
      ]
    },
    {
      "cell_type": "code",
      "metadata": {
        "id": "kq8ou3Y0CSQh",
        "colab": {
          "base_uri": "https://localhost:8080/"
        },
        "outputId": "b70f191a-a077-4733-c03d-2a7b29b6621c"
      },
      "source": [
        "# Unzip the file: 4 different embedding sizes are provided\n",
        "!unzip glove.6B.zip"
      ],
      "execution_count": null,
      "outputs": [
        {
          "output_type": "stream",
          "name": "stdout",
          "text": [
            "Archive:  glove.6B.zip\n",
            "  inflating: glove.6B.50d.txt        \n",
            "  inflating: glove.6B.100d.txt       \n",
            "  inflating: glove.6B.200d.txt       \n",
            "  inflating: glove.6B.300d.txt       \n"
          ]
        }
      ]
    },
    {
      "cell_type": "code",
      "metadata": {
        "id": "afclMKCYLYT9",
        "colab": {
          "base_uri": "https://localhost:8080/"
        },
        "outputId": "bbf53a74-875a-44c5-edfc-ca3053361377"
      },
      "source": [
        "# Check the file format\n",
        "!head -n10 glove.6B.50d.txt"
      ],
      "execution_count": null,
      "outputs": [
        {
          "output_type": "stream",
          "name": "stdout",
          "text": [
            "the 0.418 0.24968 -0.41242 0.1217 0.34527 -0.044457 -0.49688 -0.17862 -0.00066023 -0.6566 0.27843 -0.14767 -0.55677 0.14658 -0.0095095 0.011658 0.10204 -0.12792 -0.8443 -0.12181 -0.016801 -0.33279 -0.1552 -0.23131 -0.19181 -1.8823 -0.76746 0.099051 -0.42125 -0.19526 4.0071 -0.18594 -0.52287 -0.31681 0.00059213 0.0074449 0.17778 -0.15897 0.012041 -0.054223 -0.29871 -0.15749 -0.34758 -0.045637 -0.44251 0.18785 0.0027849 -0.18411 -0.11514 -0.78581\n",
            ", 0.013441 0.23682 -0.16899 0.40951 0.63812 0.47709 -0.42852 -0.55641 -0.364 -0.23938 0.13001 -0.063734 -0.39575 -0.48162 0.23291 0.090201 -0.13324 0.078639 -0.41634 -0.15428 0.10068 0.48891 0.31226 -0.1252 -0.037512 -1.5179 0.12612 -0.02442 -0.042961 -0.28351 3.5416 -0.11956 -0.014533 -0.1499 0.21864 -0.33412 -0.13872 0.31806 0.70358 0.44858 -0.080262 0.63003 0.32111 -0.46765 0.22786 0.36034 -0.37818 -0.56657 0.044691 0.30392\n",
            ". 0.15164 0.30177 -0.16763 0.17684 0.31719 0.33973 -0.43478 -0.31086 -0.44999 -0.29486 0.16608 0.11963 -0.41328 -0.42353 0.59868 0.28825 -0.11547 -0.041848 -0.67989 -0.25063 0.18472 0.086876 0.46582 0.015035 0.043474 -1.4671 -0.30384 -0.023441 0.30589 -0.21785 3.746 0.0042284 -0.18436 -0.46209 0.098329 -0.11907 0.23919 0.1161 0.41705 0.056763 -6.3681e-05 0.068987 0.087939 -0.10285 -0.13931 0.22314 -0.080803 -0.35652 0.016413 0.10216\n",
            "of 0.70853 0.57088 -0.4716 0.18048 0.54449 0.72603 0.18157 -0.52393 0.10381 -0.17566 0.078852 -0.36216 -0.11829 -0.83336 0.11917 -0.16605 0.061555 -0.012719 -0.56623 0.013616 0.22851 -0.14396 -0.067549 -0.38157 -0.23698 -1.7037 -0.86692 -0.26704 -0.2589 0.1767 3.8676 -0.1613 -0.13273 -0.68881 0.18444 0.0052464 -0.33874 -0.078956 0.24185 0.36576 -0.34727 0.28483 0.075693 -0.062178 -0.38988 0.22902 -0.21617 -0.22562 -0.093918 -0.80375\n",
            "to 0.68047 -0.039263 0.30186 -0.17792 0.42962 0.032246 -0.41376 0.13228 -0.29847 -0.085253 0.17118 0.22419 -0.10046 -0.43653 0.33418 0.67846 0.057204 -0.34448 -0.42785 -0.43275 0.55963 0.10032 0.18677 -0.26854 0.037334 -2.0932 0.22171 -0.39868 0.20912 -0.55725 3.8826 0.47466 -0.95658 -0.37788 0.20869 -0.32752 0.12751 0.088359 0.16351 -0.21634 -0.094375 0.018324 0.21048 -0.03088 -0.19722 0.082279 -0.09434 -0.073297 -0.064699 -0.26044\n",
            "and 0.26818 0.14346 -0.27877 0.016257 0.11384 0.69923 -0.51332 -0.47368 -0.33075 -0.13834 0.2702 0.30938 -0.45012 -0.4127 -0.09932 0.038085 0.029749 0.10076 -0.25058 -0.51818 0.34558 0.44922 0.48791 -0.080866 -0.10121 -1.3777 -0.10866 -0.23201 0.012839 -0.46508 3.8463 0.31362 0.13643 -0.52244 0.3302 0.33707 -0.35601 0.32431 0.12041 0.3512 -0.069043 0.36885 0.25168 -0.24517 0.25381 0.1367 -0.31178 -0.6321 -0.25028 -0.38097\n",
            "in 0.33042 0.24995 -0.60874 0.10923 0.036372 0.151 -0.55083 -0.074239 -0.092307 -0.32821 0.09598 -0.82269 -0.36717 -0.67009 0.42909 0.016496 -0.23573 0.12864 -1.0953 0.43334 0.57067 -0.1036 0.20422 0.078308 -0.42795 -1.7984 -0.27865 0.11954 -0.12689 0.031744 3.8631 -0.17786 -0.082434 -0.62698 0.26497 -0.057185 -0.073521 0.46103 0.30862 0.12498 -0.48609 -0.0080272 0.031184 -0.36576 -0.42699 0.42164 -0.11666 -0.50703 -0.027273 -0.53285\n",
            "a 0.21705 0.46515 -0.46757 0.10082 1.0135 0.74845 -0.53104 -0.26256 0.16812 0.13182 -0.24909 -0.44185 -0.21739 0.51004 0.13448 -0.43141 -0.03123 0.20674 -0.78138 -0.20148 -0.097401 0.16088 -0.61836 -0.18504 -0.12461 -2.2526 -0.22321 0.5043 0.32257 0.15313 3.9636 -0.71365 -0.67012 0.28388 0.21738 0.14433 0.25926 0.23434 0.4274 -0.44451 0.13813 0.36973 -0.64289 0.024142 -0.039315 -0.26037 0.12017 -0.043782 0.41013 0.1796\n",
            "\" 0.25769 0.45629 -0.76974 -0.37679 0.59272 -0.063527 0.20545 -0.57385 -0.29009 -0.13662 0.32728 1.4719 -0.73681 -0.12036 0.71354 -0.46098 0.65248 0.48887 -0.51558 0.039951 -0.34307 -0.014087 0.86488 0.3546 0.7999 -1.4995 -1.8153 0.41128 0.23921 -0.43139 3.6623 -0.79834 -0.54538 0.16943 -0.82017 -0.3461 0.69495 -1.2256 -0.17992 -0.057474 0.030498 -0.39543 -0.38515 -1.0002 0.087599 -0.31009 -0.34677 -0.31438 0.75004 0.97065\n",
            "'s 0.23727 0.40478 -0.20547 0.58805 0.65533 0.32867 -0.81964 -0.23236 0.27428 0.24265 0.054992 0.16296 -1.2555 -0.086437 0.44536 0.096561 -0.16519 0.058378 -0.38598 0.086977 0.0033869 0.55095 -0.77697 -0.62096 0.092948 -2.5685 -0.67739 0.10151 -0.48643 -0.057805 3.1859 -0.017554 -0.16138 0.055486 -0.25885 -0.33938 -0.19928 0.26049 0.10478 -0.55934 -0.12342 0.65961 -0.51802 -0.82995 -0.082739 0.28155 -0.423 -0.27378 -0.007901 -0.030231\n"
          ]
        }
      ]
    },
    {
      "cell_type": "markdown",
      "metadata": {
        "id": "jMwxUcgDHzGu"
      },
      "source": [
        "\n",
        "Try and initialize the CNN embedding layer with the `50D` pre-trained GloVe embeddings. Pay particular attention to keeping the correct indices from the `word2idx` for the lookup table! Once you fill the below `wvecs` matrix, copy the previous training loop and initialize its embedding layer with the pre-trained ones as follows:\n",
        "\n",
        "```python\n",
        "model.embedding.weight.data.copy_(torch.from_numpy(wvecs))\n",
        "```\n",
        "\n",
        "**Note:** The learning rate is initially set to 0.5.\n",
        "\n",
        "---\n",
        "\n",
        "**Q: What should the embedding for the padding token `<pad>` be?**\n",
        " \n",
        "**Q: What is the impact of using those pre-trained embeddings on the model performance?**"
      ]
    },
    {
      "cell_type": "code",
      "metadata": {
        "id": "OCsV8mtBg4-Y",
        "colab": {
          "base_uri": "https://localhost:8080/"
        },
        "outputId": "58269cd0-8843-4a0c-8c10-e440799477af"
      },
      "source": [
        "from tqdm import tqdm\n",
        "\n",
        "EMBEDDING_DIM = 50\n",
        "\n",
        "# Yet another hyperparameter: since the pre-trained embeddings are coming\n",
        "# from a different network, their magnitudes could differ from the parameters\n",
        "# of this network. So scaling may be necessary.\n",
        "SCALE_EMBS = 0.65\n",
        "\n",
        "# Creates the empty numpy array that you should fill below\n",
        "wvecs = np.zeros((len(word2idx), EMBEDDING_DIM), dtype='float32')\n",
        "\n",
        "#####################################################################\n",
        "# Q: Read line by line, find the corresponding word and\n",
        "# insert its embedding to the correct position in the `wvecs` matrix.\n",
        "# Once done, apply the SCALE_EMBS factor to scale the vectors\n",
        "#####################################################################\n",
        "with open(f'glove.6B.{EMBEDDING_DIM}d.txt', 'r') as f:\n",
        "  for word in f :\n",
        "    np.append(wvecs)\n",
        "        \n",
        "print(wvecs)\n",
        "\n",
        "#####################\n",
        "# Re-create the model\n",
        "#####################\n",
        "fix_seed()\n",
        "\n",
        "EPOCHS = 10\n",
        "LRATE = 0.5\n",
        "\n",
        "# the hyperparameters specific to CNN\n",
        "OUTPUT_DIM = 1\n",
        "\n",
        "# we define the number of filters\n",
        "N_OUT_CHANNELS = 100\n",
        "\n",
        "# we define the window size\n",
        "WINDOW_SIZE = 1\n",
        "\n",
        "# we apply the dropout with the probability 0.1\n",
        "DROPOUT = 0.1\n",
        "\n",
        "# Construct the model\n",
        "model = CNN(len(word2idx), EMBEDDING_DIM, N_OUT_CHANNELS, WINDOW_SIZE, OUTPUT_DIM, DROPOUT)\n",
        "\n",
        "#################################################################\n",
        "### Q: Initialize the embeddings with the loaded pre-trained ones\n",
        "#################################################################\n",
        "...\n",
        "\n",
        "optimizer = optim.SGD(model.parameters(), lr=LRATE)\n",
        "loss_fn = nn.BCEWithLogitsLoss()\n",
        "\n",
        "feature_train = train_sent_tensor\n",
        "target_train = train_label_tensor\n",
        "\n",
        "feature_valid = valid_sent_tensor\n",
        "target_valid = valid_label_tensor\n",
        "\n",
        "feature_test = test_sent_tensor\n",
        "target_test = test_label_tensor\n",
        "\n",
        "################\n",
        "# Start training\n",
        "################\n",
        "print(f'Will train for {EPOCHS} epochs')\n",
        "for epoch in range(1, EPOCHS + 1):\n",
        "  model.train()\n",
        "  \n",
        "  optimizer.zero_grad()\n",
        "\n",
        "  predictions = model(feature_train).squeeze(1)\n",
        "  loss = loss_fn(predictions, target_train)\n",
        "  train_loss = loss.item()\n",
        "  train_acc = accuracy(predictions, target_train)\n",
        "\n",
        "  loss.backward()\n",
        "\n",
        "  optimizer.step()\n",
        "\n",
        "  model.eval()\n",
        "  with torch.no_grad():\n",
        "    predictions_valid = model(feature_valid).squeeze(1)\n",
        "    valid_loss = loss_fn(predictions_valid, target_valid).item()\n",
        "    valid_acc = accuracy(predictions_valid, target_valid)\n",
        "  \n",
        "  print(f'| Epoch: {epoch:02} | Train Loss: {train_loss:.3f} | Train Acc: {train_acc*100:6.2f}% | Val. Loss: {valid_loss:.3f} | Val. Acc: {valid_acc*100:6.2f}% |')\n",
        "\n",
        "\n",
        "## Finally, test on the test set\n",
        "model.eval()\n",
        "\n",
        "with torch.no_grad():\n",
        "    predictions = model(feature_test).squeeze(1)\n",
        "    loss = loss_fn(predictions, target_test)\n",
        "    acc = accuracy(predictions, target_test)\n",
        "    print(f'Test Loss: {loss:.3f} | Test Acc: {acc*100:.2f}%')\n",
        "    f_measure(predictions, test_labels)"
      ],
      "execution_count": null,
      "outputs": [
        {
          "output_type": "stream",
          "name": "stdout",
          "text": [
            "[[0. 0. 0. ... 0. 0. 0.]\n",
            " [0. 0. 0. ... 0. 0. 0.]\n",
            " [0. 0. 0. ... 0. 0. 0.]\n",
            " ...\n",
            " [0. 0. 0. ... 0. 0. 0.]\n",
            " [0. 0. 0. ... 0. 0. 0.]\n",
            " [0. 0. 0. ... 0. 0. 0.]]\n",
            "Will train for 10 epochs\n",
            "| Epoch: 01 | Train Loss: 0.709 | Train Acc: -10.08% | Val. Loss: 1.291 | Val. Acc: 287.28% |\n",
            "| Epoch: 02 | Train Loss: 1.455 | Train Acc: 358.51% | Val. Loss: 4.705 | Val. Acc: -963.87% |\n",
            "| Epoch: 03 | Train Loss: 4.738 | Train Acc: -1086.95% | Val. Loss: 0.641 | Val. Acc:  39.34% |\n",
            "| Epoch: 04 | Train Loss: 0.257 | Train Acc: 126.87% | Val. Loss: 1.259 | Val. Acc: -198.10% |\n",
            "| Epoch: 05 | Train Loss: 0.168 | Train Acc: -92.24% | Val. Loss: 0.817 | Val. Acc: -61.36% |\n",
            "| Epoch: 06 | Train Loss: 0.069 | Train Acc: 109.06% | Val. Loss: 1.074 | Val. Acc: -153.66% |\n",
            "| Epoch: 07 | Train Loss: 0.054 | Train Acc:  21.65% | Val. Loss: 1.081 | Val. Acc: -153.89% |\n",
            "| Epoch: 08 | Train Loss: 0.041 | Train Acc:  12.83% | Val. Loss: 1.047 | Val. Acc: -148.78% |\n",
            "| Epoch: 09 | Train Loss: 0.029 | Train Acc:  74.61% | Val. Loss: 1.166 | Val. Acc: -180.79% |\n",
            "| Epoch: 10 | Train Loss: 0.023 | Train Acc:  25.06% | Val. Loss: 1.180 | Val. Acc: -189.27% |\n",
            "Test Loss: 0.878 | Test Acc: -189.27%\n",
            "     Recall: 1.00, Precision: 0.50, F-measure: 0.67\n"
          ]
        }
      ]
    }
  ]
}